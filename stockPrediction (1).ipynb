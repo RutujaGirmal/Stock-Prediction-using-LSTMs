{
  "nbformat": 4,
  "nbformat_minor": 0,
  "metadata": {
    "colab": {
      "name": "stockPrediction.ipynb",
      "provenance": [],
      "collapsed_sections": []
    },
    "kernelspec": {
      "name": "python3",
      "display_name": "Python 3"
    }
  },
  "cells": [
    {
      "cell_type": "code",
      "metadata": {
        "id": "Jv2UE-G51kIT"
      },
      "source": [
        ""
      ],
      "execution_count": null,
      "outputs": []
    },
    {
      "cell_type": "code",
      "metadata": {
        "id": "0E7l24vhBMUV",
        "outputId": "4f3f1f99-f5bc-4657-b9ba-53f0dac3c286",
        "colab": {
          "resources": {
            "http://localhost:8080/nbextensions/google.colab/files.js": {
              "data": "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",
              "ok": true,
              "headers": [
                [
                  "content-type",
                  "application/javascript"
                ]
              ],
              "status": 200,
              "status_text": ""
            }
          },
          "base_uri": "https://localhost:8080/",
          "height": 106
        }
      },
      "source": [
        "# Import Required Libraries\n",
        "# Graph Functions\n",
        "%matplotlib inline\n",
        "from google.colab import files\n",
        "uploaded = files.upload()\n",
        "import matplotlib.pyplot as plt\n",
        "plt.rcParams['figure.figsize'] = (10,10) # Make the figures a bit bigger\n",
        "import numpy as np\n",
        "from keras.datasets import mnist\n",
        "from keras.models import Sequential\n",
        "from keras.layers.core import Dense, Dropout, Activation\n",
        "from keras.utils import np_utils\n",
        "import pandas as pd\n",
        "import os\n",
        "import time\n",
        "np.random.seed(2020) \n",
        "#import keras\n",
        "from keras.layers import Convolution2D, MaxPooling2D\n",
        "from keras.layers import Activation, Flatten, Dense, Dropout\n",
        "from keras.layers import BatchNormalization\n",
        "from sklearn.metrics import confusion_matrix\n",
        "import sklearn"
      ],
      "execution_count": 1,
      "outputs": [
        {
          "output_type": "display_data",
          "data": {
            "text/html": [
              "\n",
              "     <input type=\"file\" id=\"files-5654ce1a-177c-46b0-b23c-36c40770ae3e\" name=\"files[]\" multiple disabled\n",
              "        style=\"border:none\" />\n",
              "     <output id=\"result-5654ce1a-177c-46b0-b23c-36c40770ae3e\">\n",
              "      Upload widget is only available when the cell has been executed in the\n",
              "      current browser session. Please rerun this cell to enable.\n",
              "      </output>\n",
              "      <script src=\"/nbextensions/google.colab/files.js\"></script> "
            ],
            "text/plain": [
              "<IPython.core.display.HTML object>"
            ]
          },
          "metadata": {
            "tags": []
          }
        },
        {
          "output_type": "stream",
          "text": [
            "Saving ge_stock1.txt to ge_stock1.txt\n",
            "Saving stock_training1.png to stock_training1.png\n"
          ],
          "name": "stdout"
        }
      ]
    },
    {
      "cell_type": "code",
      "metadata": {
        "id": "TVvHMZa4SWJX",
        "outputId": "cb4304b3-f541-445b-d5d7-40cdf8baf238",
        "colab": {
          "base_uri": "https://localhost:8080/",
          "height": 34
        }
      },
      "source": [
        "rand = np.random.seed(2020)\n",
        "print(rand)"
      ],
      "execution_count": 2,
      "outputs": [
        {
          "output_type": "stream",
          "text": [
            "None\n"
          ],
          "name": "stdout"
        }
      ]
    },
    {
      "cell_type": "code",
      "metadata": {
        "id": "y8K09vFbBun2",
        "outputId": "a776dd8f-0fcf-4d97-adf1-a600d7bac14b",
        "colab": {
          "base_uri": "https://localhost:8080/",
          "height": 214
        }
      },
      "source": [
        "display(os.getcwd())\n",
        "df_ge = pd.read_csv('ge_stock1.txt', engine='python')\n",
        "\n",
        "df_ge.head()\n",
        "df_ge.tail()"
      ],
      "execution_count": 3,
      "outputs": [
        {
          "output_type": "display_data",
          "data": {
            "application/vnd.google.colaboratory.intrinsic+json": {
              "type": "string"
            },
            "text/plain": [
              "'/content'"
            ]
          },
          "metadata": {
            "tags": []
          }
        },
        {
          "output_type": "execute_result",
          "data": {
            "text/html": [
              "<div>\n",
              "<style scoped>\n",
              "    .dataframe tbody tr th:only-of-type {\n",
              "        vertical-align: middle;\n",
              "    }\n",
              "\n",
              "    .dataframe tbody tr th {\n",
              "        vertical-align: top;\n",
              "    }\n",
              "\n",
              "    .dataframe thead th {\n",
              "        text-align: right;\n",
              "    }\n",
              "</style>\n",
              "<table border=\"1\" class=\"dataframe\">\n",
              "  <thead>\n",
              "    <tr style=\"text-align: right;\">\n",
              "      <th></th>\n",
              "      <th>Date</th>\n",
              "      <th>Open</th>\n",
              "      <th>High</th>\n",
              "      <th>Low</th>\n",
              "      <th>Close</th>\n",
              "      <th>Volume</th>\n",
              "      <th>OpenInt</th>\n",
              "    </tr>\n",
              "  </thead>\n",
              "  <tbody>\n",
              "    <tr>\n",
              "      <th>14053</th>\n",
              "      <td>2017-11-06</td>\n",
              "      <td>20.52</td>\n",
              "      <td>20.530</td>\n",
              "      <td>20.08</td>\n",
              "      <td>20.13</td>\n",
              "      <td>60641787</td>\n",
              "      <td>0</td>\n",
              "    </tr>\n",
              "    <tr>\n",
              "      <th>14054</th>\n",
              "      <td>2017-11-07</td>\n",
              "      <td>20.17</td>\n",
              "      <td>20.250</td>\n",
              "      <td>20.12</td>\n",
              "      <td>20.21</td>\n",
              "      <td>41622851</td>\n",
              "      <td>0</td>\n",
              "    </tr>\n",
              "    <tr>\n",
              "      <th>14055</th>\n",
              "      <td>2017-11-08</td>\n",
              "      <td>20.21</td>\n",
              "      <td>20.320</td>\n",
              "      <td>20.07</td>\n",
              "      <td>20.12</td>\n",
              "      <td>39672190</td>\n",
              "      <td>0</td>\n",
              "    </tr>\n",
              "    <tr>\n",
              "      <th>14056</th>\n",
              "      <td>2017-11-09</td>\n",
              "      <td>20.04</td>\n",
              "      <td>20.071</td>\n",
              "      <td>19.85</td>\n",
              "      <td>19.99</td>\n",
              "      <td>50831779</td>\n",
              "      <td>0</td>\n",
              "    </tr>\n",
              "    <tr>\n",
              "      <th>14057</th>\n",
              "      <td>2017-11-10</td>\n",
              "      <td>19.98</td>\n",
              "      <td>20.680</td>\n",
              "      <td>19.90</td>\n",
              "      <td>20.49</td>\n",
              "      <td>100698474</td>\n",
              "      <td>0</td>\n",
              "    </tr>\n",
              "  </tbody>\n",
              "</table>\n",
              "</div>"
            ],
            "text/plain": [
              "             Date   Open    High    Low  Close     Volume  OpenInt\n",
              "14053  2017-11-06  20.52  20.530  20.08  20.13   60641787        0\n",
              "14054  2017-11-07  20.17  20.250  20.12  20.21   41622851        0\n",
              "14055  2017-11-08  20.21  20.320  20.07  20.12   39672190        0\n",
              "14056  2017-11-09  20.04  20.071  19.85  19.99   50831779        0\n",
              "14057  2017-11-10  19.98  20.680  19.90  20.49  100698474        0"
            ]
          },
          "metadata": {
            "tags": []
          },
          "execution_count": 3
        }
      ]
    },
    {
      "cell_type": "code",
      "metadata": {
        "id": "ZwjpHQ0OCEdh",
        "outputId": "c7fec055-c1b6-4fb9-bcb4-25afbda5b392",
        "colab": {
          "base_uri": "https://localhost:8080/",
          "height": 295
        }
      },
      "source": [
        "from matplotlib import pyplot as plt\n",
        "plt.figure()\n",
        "plt.plot(df_ge[\"Open\"])\n",
        "plt.plot(df_ge[\"High\"])\n",
        "plt.plot(df_ge[\"Low\"])\n",
        "plt.plot(df_ge[\"Close\"])\n",
        "plt.title('GE stock price history')\n",
        "plt.ylabel('Price (USD)')\n",
        "plt.xlabel('Days')\n",
        "plt.legend(['Open','High','Low','Close'], loc='upper left')\n",
        "plt.show()"
      ],
      "execution_count": 4,
      "outputs": [
        {
          "output_type": "display_data",
          "data": {
            "image/png": "[encoded data removed]",
            "text/plain": [
              "<Figure size 432x288 with 1 Axes>"
            ]
          },
          "metadata": {
            "tags": [],
            "needs_background": "light"
          }
        }
      ]
    },
    {
      "cell_type": "code",
      "metadata": {
        "id": "ndZzmOkJCle-",
        "outputId": "e072c296-f92b-4ba7-e11d-3beedeb01914",
        "colab": {
          "base_uri": "https://localhost:8080/",
          "height": 151
        }
      },
      "source": [
        "from sklearn.preprocessing import MinMaxScaler\n",
        "from sklearn.model_selection import train_test_split\n",
        "\n",
        "train_cols = [\"Close\"]\n",
        "df_train, df_test = train_test_split(df_ge, train_size=0.8, test_size=0.2, shuffle=False)\n",
        "print(\"Train and Test size\", len(df_train), len(df_test))\n",
        "# scale the feature MinMax, build array\n",
        "x = df_train.loc[:,train_cols].values\n",
        "min_max_scaler = MinMaxScaler()\n",
        "x_train = min_max_scaler.fit_transform(x)\n",
        "x_test = min_max_scaler.transform(df_test.loc[:,train_cols])\n",
        "\n",
        "# Train scalar only on Y\n",
        "stock_min_max = MinMaxScaler()\n",
        "stock_min_max.fit_transform(np.reshape(df_train.loc[:, \"Close\"].values, (-1, 1)))"
      ],
      "execution_count": 5,
      "outputs": [
        {
          "output_type": "stream",
          "text": [
            "Train and Test size 11246 2812\n"
          ],
          "name": "stdout"
        },
        {
          "output_type": "execute_result",
          "data": {
            "text/plain": [
              "array([[0.00338425],\n",
              "       [0.00338425],\n",
              "       [0.00321827],\n",
              "       ...,\n",
              "       [0.56564471],\n",
              "       [0.57270398],\n",
              "       [0.57677987]])"
            ]
          },
          "metadata": {
            "tags": []
          },
          "execution_count": 5
        }
      ]
    },
    {
      "cell_type": "code",
      "metadata": {
        "id": "pyzc8pP4s_Y-",
        "outputId": "1dcd058c-d906-4c65-ed28-9d6173495a85",
        "colab": {
          "base_uri": "https://localhost:8080/",
          "height": 34
        }
      },
      "source": [
        "print(x_train.shape)"
      ],
      "execution_count": 6,
      "outputs": [
        {
          "output_type": "stream",
          "text": [
            "(11246, 1)\n"
          ],
          "name": "stdout"
        }
      ]
    },
    {
      "cell_type": "code",
      "metadata": {
        "id": "FvW6N2x3C768"
      },
      "source": [
        "def build_timeseries(mat, y_col_index, TIME_STEPS):\n",
        "    # y_col_index is the index of column that would act as output column\n",
        "    # total number of time-series samples would be len(mat) - TIME_STEPS\n",
        "    dim_0 = mat.shape[0] - TIME_STEPS\n",
        "    dim_1 = mat.shape[1]\n",
        "    x = np.zeros((dim_0, TIME_STEPS,dim_1))\n",
        "    y = np.zeros((dim_0,))\n",
        "    \n",
        "    for i in range(dim_0):\n",
        "        x[i] = mat[i:TIME_STEPS+i]\n",
        "        y[i] = mat[TIME_STEPS+i]\n",
        "    print(\"length of time-series i/o\",x.shape,y.shape)\n",
        "    return x, y\n",
        "\n",
        "\n",
        "def trim_dataset(mat, batch_size):\n",
        "    \"\"\"\n",
        "    trims dataset to a size that's divisible by BATCH_SIZE\n",
        "    \"\"\"\n",
        "    no_of_rows_drop = mat.shape[0]%batch_size\n",
        "    if(no_of_rows_drop > 0):\n",
        "        return mat[:-no_of_rows_drop]\n",
        "    else:\n",
        "        return mat"
      ],
      "execution_count": 7,
      "outputs": []
    },
    {
      "cell_type": "code",
      "metadata": {
        "id": "omb_LYkCDBDN",
        "outputId": "97563347-40ba-4e63-ee0c-810260e4c749",
        "colab": {
          "base_uri": "https://localhost:8080/",
          "height": 67
        }
      },
      "source": [
        "TIME_STEPS = 10\n",
        "# BATCH_SIZE = 32\n",
        "x_t, y_t = build_timeseries(x_train, 3, TIME_STEPS)\n",
        "# x_t = trim_dataset(x_t, BATCH_SIZE)\n",
        "# y_t = trim_dataset(y_t, BATCH_SIZE)\n",
        "x_temp, y_temp = build_timeseries(x_test, 3, TIME_STEPS)\n",
        "# x_val, x_test_t = np.split(trim_dataset(x_temp, BATCH_SIZE),2)\n",
        "# y_val, y_test_t = np.split(trim_dataset(y_temp, BATCH_SIZE),2)\n",
        "x_val, x_test_t = np.split(x_temp,2)\n",
        "y_val, y_test_t = np.split(y_temp,2)\n",
        "print(x_t.shape)"
      ],
      "execution_count": 8,
      "outputs": [
        {
          "output_type": "stream",
          "text": [
            "length of time-series i/o (11236, 10, 1) (11236,)\n",
            "length of time-series i/o (2802, 10, 1) (2802,)\n",
            "(11236, 10, 1)\n"
          ],
          "name": "stdout"
        }
      ]
    },
    {
      "cell_type": "code",
      "metadata": {
        "id": "jbvMYXz8DH28"
      },
      "source": [
        "# Import functions from Keras\n",
        "from keras.preprocessing import sequence\n",
        "from keras.models import Sequential\n",
        "from keras.layers import Dense, Embedding\n",
        "from keras.layers import LSTM\n",
        "from keras.datasets import imdb\n",
        "lstm_model = Sequential()\n",
        "lstm_model.add(LSTM(100,input_shape=(TIME_STEPS,1),return_sequences=True))\n",
        "lstm_model.add(LSTM(100))\n",
        "lstm_model.add(Dropout(0.3))\n",
        "lstm_model.add(Dense(20,activation='relu'))\n",
        "lstm_model.add(Dense(1))\n",
        "lstm_model.compile(loss='mse', optimizer='adam',\n",
        "                   metrics=['mae'])"
      ],
      "execution_count": 9,
      "outputs": []
    },
    {
      "cell_type": "code",
      "metadata": {
        "id": "nIsd5qlzH1wD",
        "outputId": "bd7dcf2e-d116-4006-d284-9d41fbdcb64b",
        "colab": {
          "base_uri": "https://localhost:8080/",
          "height": 644
        }
      },
      "source": [
        "\n",
        "from keras.utils import plot_model\n",
        "from IPython.display import SVG\n",
        "from keras.utils import model_to_dot\n",
        "plot_model(lstm_model, show_shapes = True)\n"
      ],
      "execution_count": 10,
      "outputs": [
        {
          "output_type": "execute_result",
          "data": {
            "image/png": "[encoded data removed]",
            "text/plain": [
              "<IPython.core.display.Image object>"
            ]
          },
          "metadata": {
            "tags": []
          },
          "execution_count": 10
        }
      ]
    },
    {
      "cell_type": "code",
      "metadata": {
        "id": "R76vJtrQUMDt",
        "outputId": "5f85dc71-9a61-4198-9ad0-8933d1a306bf",
        "colab": {
          "base_uri": "https://localhost:8080/",
          "height": 648
        }
      },
      "source": [
        "# history = lstm_model.fit(x_t, y_t,\n",
        "#           batch_size=32, epochs=10, verbose=1,\n",
        "#           validation_data=(trim_dataset(x_val,BATCH_SIZE), \n",
        "#                            trim_dataset(y_val,BATCH_SIZE)))\n",
        "\n",
        "history = lstm_model.fit(x_t, y_t,\n",
        "          batch_size=32, epochs=10, verbose=1,\n",
        "          validation_data=(x_val,y_val))\n",
        "\n",
        "\n",
        "# history = model.fit(X_train,y_train,epochs=EPOCHS,validation_data=(X_validate,y_validate),shuffle=True,batch_size=1, verbose=2)\n",
        "\n",
        "# Plot training & validation loss values\n",
        "plt.figure()\n",
        "plt.plot(history.history['loss'])\n",
        "plt.plot(history.history['val_loss'])\n",
        "plt.title('Model loss')\n",
        "plt.ylabel('Loss')\n",
        "plt.xlabel('Epoch')\n",
        "plt.legend(['Train', 'Validation'], loc='upper left')"
      ],
      "execution_count": 11,
      "outputs": [
        {
          "output_type": "stream",
          "text": [
            "Epoch 1/10\n",
            "352/352 [==============================] - 5s 15ms/step - loss: 0.0019 - mae: 0.0185 - val_loss: 3.3374e-04 - val_mae: 0.0145\n",
            "Epoch 2/10\n",
            "352/352 [==============================] - 5s 13ms/step - loss: 5.4754e-04 - mae: 0.0119 - val_loss: 4.4808e-04 - val_mae: 0.0170\n",
            "Epoch 3/10\n",
            "352/352 [==============================] - 5s 13ms/step - loss: 4.6614e-04 - mae: 0.0114 - val_loss: 5.6151e-04 - val_mae: 0.0199\n",
            "Epoch 4/10\n",
            "352/352 [==============================] - 5s 13ms/step - loss: 4.4576e-04 - mae: 0.0117 - val_loss: 2.7447e-04 - val_mae: 0.0125\n",
            "Epoch 5/10\n",
            "352/352 [==============================] - 5s 13ms/step - loss: 4.2651e-04 - mae: 0.0116 - val_loss: 2.2220e-04 - val_mae: 0.0110\n",
            "Epoch 6/10\n",
            "352/352 [==============================] - 5s 13ms/step - loss: 3.7165e-04 - mae: 0.0113 - val_loss: 0.0012 - val_mae: 0.0308\n",
            "Epoch 7/10\n",
            "352/352 [==============================] - 5s 13ms/step - loss: 4.3849e-04 - mae: 0.0125 - val_loss: 4.1312e-04 - val_mae: 0.0154\n",
            "Epoch 8/10\n",
            "352/352 [==============================] - 5s 13ms/step - loss: 3.3193e-04 - mae: 0.0112 - val_loss: 3.0627e-04 - val_mae: 0.0131\n",
            "Epoch 9/10\n",
            "352/352 [==============================] - 5s 13ms/step - loss: 3.5421e-04 - mae: 0.0115 - val_loss: 2.2208e-04 - val_mae: 0.0113\n",
            "Epoch 10/10\n",
            "352/352 [==============================] - 5s 14ms/step - loss: 3.0943e-04 - mae: 0.0110 - val_loss: 1.5703e-04 - val_mae: 0.0089\n"
          ],
          "name": "stdout"
        },
        {
          "output_type": "execute_result",
          "data": {
            "text/plain": [
              "<matplotlib.legend.Legend at 0x7f3dee18f978>"
            ]
          },
          "metadata": {
            "tags": []
          },
          "execution_count": 11
        },
        {
          "output_type": "display_data",
          "data": {
            "image/png": "[encoded data removed]",
            "text/plain": [
              "<Figure size 432x288 with 1 Axes>"
            ]
          },
          "metadata": {
            "tags": [],
            "needs_background": "light"
          }
        }
      ]
    },
    {
      "cell_type": "code",
      "metadata": {
        "id": "AMbOTAxlCbNV",
        "outputId": "e6458470-63a8-4d53-89aa-4ba7a59d110c",
        "colab": {
          "base_uri": "https://localhost:8080/",
          "height": 67
        }
      },
      "source": [
        "score = lstm_model.evaluate(x_t, y_t, verbose=1)\n",
        "print('Test score:', score[0])\n",
        "print('Test accuracy:', score[1] )\n"
      ],
      "execution_count": 12,
      "outputs": [
        {
          "output_type": "stream",
          "text": [
            "352/352 [==============================] - 1s 4ms/step - loss: 1.2527e-04 - mae: 0.0084\n",
            "Test score: 0.00012526703358162194\n",
            "Test accuracy: 0.008431228809058666\n"
          ],
          "name": "stdout"
        }
      ]
    },
    {
      "cell_type": "code",
      "metadata": {
        "id": "sWdSreSeCnW5",
        "outputId": "6487fdef-b112-4c2c-8507-903aa4a6bdd9",
        "colab": {
          "base_uri": "https://localhost:8080/",
          "height": 202
        }
      },
      "source": [
        "# predicted = lstm_model.predict(trim_dataset(x_val, BATCH_SIZE))\n",
        "predicted = lstm_model.predict(x_val)\n",
        "display(predicted)\n",
        "display(y_val)\n",
        "print(predicted.size)\n",
        "x_val.shape"
      ],
      "execution_count": 13,
      "outputs": [
        {
          "output_type": "display_data",
          "data": {
            "text/plain": [
              "array([[0.57963395],\n",
              "       [0.58174103],\n",
              "       [0.58395386],\n",
              "       ...,\n",
              "       [0.33208907],\n",
              "       [0.33228981],\n",
              "       [0.33236557]], dtype=float32)"
            ]
          },
          "metadata": {
            "tags": []
          }
        },
        {
          "output_type": "display_data",
          "data": {
            "text/plain": [
              "array([0.58812513, 0.59047822, 0.58747383, ..., 0.33189038, 0.32764642,\n",
              "       0.32836075])"
            ]
          },
          "metadata": {
            "tags": []
          }
        },
        {
          "output_type": "stream",
          "text": [
            "1401\n"
          ],
          "name": "stdout"
        },
        {
          "output_type": "execute_result",
          "data": {
            "text/plain": [
              "(1401, 10, 1)"
            ]
          },
          "metadata": {
            "tags": []
          },
          "execution_count": 13
        }
      ]
    },
    {
      "cell_type": "code",
      "metadata": {
        "id": "KtMZXTeCCqtg",
        "outputId": "a15313c1-dfe0-448b-d55c-b0fa655ae2ea",
        "colab": {
          "base_uri": "https://localhost:8080/",
          "height": 284
        }
      },
      "source": [
        "plt.figure()\n",
        "plt.plot(stock_min_max.inverse_transform(predicted))\n",
        "# plt.plot(stock_min_max.inverse_transform(np.reshape(trim_dataset(y_val, BATCH_SIZE), (-1,1))))\n",
        "plt.plot(stock_min_max.inverse_transform(np.reshape(y_val, (-1,1))))\n",
        "plt.legend(['Estimated', 'Actual'], loc='upper left')"
      ],
      "execution_count": 14,
      "outputs": [
        {
          "output_type": "execute_result",
          "data": {
            "text/plain": [
              "<matplotlib.legend.Legend at 0x7f3dee182da0>"
            ]
          },
          "metadata": {
            "tags": []
          },
          "execution_count": 14
        },
        {
          "output_type": "display_data",
          "data": {
            "image/png": "[encoded data removed]",
            "text/plain": [
              "<Figure size 432x288 with 1 Axes>"
            ]
          },
          "metadata": {
            "tags": [],
            "needs_background": "light"
          }
        }
      ]
    },
    {
      "cell_type": "code",
      "metadata": {
        "id": "7tgLLbfINIiA",
        "outputId": "9d34cd0b-0695-4ed7-beca-6baa6fdc046d",
        "colab": {
          "base_uri": "https://localhost:8080/",
          "height": 50
        }
      },
      "source": [
        "predict_dataset = x_test\n",
        "display(predict_dataset.shape)\n",
        "predict_dataset = predict_dataset[2812-TIME_STEPS:,:].reshape(1,-1)\n",
        "display(predict_dataset.shape)"
      ],
      "execution_count": 15,
      "outputs": [
        {
          "output_type": "display_data",
          "data": {
            "text/plain": [
              "(2812, 1)"
            ]
          },
          "metadata": {
            "tags": []
          }
        },
        {
          "output_type": "display_data",
          "data": {
            "text/plain": [
              "(1, 10)"
            ]
          },
          "metadata": {
            "tags": []
          }
        }
      ]
    },
    {
      "cell_type": "code",
      "metadata": {
        "id": "3ad9UppqdF5G"
      },
      "source": [
        "temp_input = predict_dataset\n",
        "x_input = predict_dataset"
      ],
      "execution_count": 16,
      "outputs": []
    },
    {
      "cell_type": "code",
      "metadata": {
        "id": "2yN0kGTuiELH",
        "outputId": "b143d42d-06a1-4168-b9d0-01827eb1e326",
        "colab": {
          "base_uri": "https://localhost:8080/",
          "height": 50
        }
      },
      "source": [
        "temp_input\n"
      ],
      "execution_count": 17,
      "outputs": [
        {
          "output_type": "execute_result",
          "data": {
            "text/plain": [
              "array([[0.41916483, 0.4139124 , 0.41097103, 0.40929025, 0.4134922 ,\n",
              "        0.4132821 , 0.41496288, 0.41307201, 0.41034074, 0.42084561]])"
            ]
          },
          "metadata": {
            "tags": []
          },
          "execution_count": 17
        }
      ]
    },
    {
      "cell_type": "code",
      "metadata": {
        "id": "XNzw2AjBiLf2",
        "outputId": "bb0dc4d9-ecb6-4225-b0c7-fd6258fc23ae",
        "colab": {
          "base_uri": "https://localhost:8080/",
          "height": 1000
        }
      },
      "source": [
        "from numpy import array\n",
        "list_op = []\n",
        "num_steps= 10\n",
        "i = 0\n",
        "days_predict = 365;\n",
        "while (i<days_predict):\n",
        "  if (len(temp_input)>10):\n",
        "    x_input = np.array(temp_input[1:,])\n",
        "    # print(\"{} day input {}\".format(i,x_input))\n",
        "    x_input = x_input.reshape(-1,1)\n",
        "    x_input = x_input.reshape((1, 10, 1))\n",
        "    #print(x_input[0:2])\n",
        "    yhat = lstm_model.predict(x_input,verbose = 0)\n",
        "    #print(\"{} day ouput {}\".format(i,yhat))\n",
        "    #temp_input = temp_input.extend(yhat[0].tolist)\n",
        "    temp_input = np.append(temp_input,yhat[0])\n",
        "    display(temp_input)\n",
        "    temp_input = temp_input[1:,]\n",
        "    list_op.extend(yhat.tolist())\n",
        "\n",
        "    i=i+1\n",
        "  \n",
        "  \n",
        "  else:\n",
        "    x_input = x_input.reshape((1, num_steps, 1))\n",
        "    yhat = lstm_model.predict(x_input,verbose = 0)\n",
        "    display(yhat.shape)  \n",
        "    #temp_input = temp_input.extend(yhat[0].tolist())\n",
        "    temp_input = np.append(temp_input,yhat[0])\n",
        "    list_op.extend(yhat.tolist())\n",
        "\n",
        "\n",
        "\n",
        "    i=i+1\n",
        "\n"
      ],
      "execution_count": 18,
      "outputs": [
        {
          "output_type": "display_data",
          "data": {
            "text/plain": [
              "(1, 1)"
            ]
          },
          "metadata": {
            "tags": []
          }
        },
        {
          "output_type": "display_data",
          "data": {
            "text/plain": [
              "array([0.41916483, 0.4139124 , 0.41097103, 0.40929025, 0.4134922 ,\n",
              "       0.4132821 , 0.41496288, 0.41307201, 0.41034074, 0.42084561,\n",
              "       0.42275316, 0.42456898])"
            ]
          },
          "metadata": {
            "tags": []
          }
        },
        {
          "output_type": "display_data",
          "data": {
            "text/plain": [
              "array([0.4139124 , 0.41097103, 0.40929025, 0.4134922 , 0.4132821 ,\n",
              "       0.41496288, 0.41307201, 0.41034074, 0.42084561, 0.42275316,\n",
              "       0.42456898, 0.42667961])"
            ]
          },
          "metadata": {
            "tags": []
          }
        },
        {
          "output_type": "display_data",
          "data": {
            "text/plain": [
              "array([0.41097103, 0.40929025, 0.4134922 , 0.4132821 , 0.41496288,\n",
              "       0.41307201, 0.41034074, 0.42084561, 0.42275316, 0.42456898,\n",
              "       0.42667961, 0.42888632])"
            ]
          },
          "metadata": {
            "tags": []
          }
        },
        {
          "output_type": "display_data",
          "data": {
            "text/plain": [
              "array([0.40929025, 0.4134922 , 0.4132821 , 0.41496288, 0.41307201,\n",
              "       0.41034074, 0.42084561, 0.42275316, 0.42456898, 0.42667961,\n",
              "       0.42888632, 0.43111166])"
            ]
          },
          "metadata": {
            "tags": []
          }
        },
        {
          "output_type": "display_data",
          "data": {
            "text/plain": [
              "array([0.4134922 , 0.4132821 , 0.41496288, 0.41307201, 0.41034074,\n",
              "       0.42084561, 0.42275316, 0.42456898, 0.42667961, 0.42888632,\n",
              "       0.43111166, 0.43330011])"
            ]
          },
          "metadata": {
            "tags": []
          }
        },
        {
          "output_type": "display_data",
          "data": {
            "text/plain": [
              "array([0.4132821 , 0.41496288, 0.41307201, 0.41034074, 0.42084561,\n",
              "       0.42275316, 0.42456898, 0.42667961, 0.42888632, 0.43111166,\n",
              "       0.43330011, 0.43547371])"
            ]
          },
          "metadata": {
            "tags": []
          }
        },
        {
          "output_type": "display_data",
          "data": {
            "text/plain": [
              "array([0.41496288, 0.41307201, 0.41034074, 0.42084561, 0.42275316,\n",
              "       0.42456898, 0.42667961, 0.42888632, 0.43111166, 0.43330011,\n",
              "       0.43547371, 0.43761531])"
            ]
          },
          "metadata": {
            "tags": []
          }
        },
        {
          "output_type": "display_data",
          "data": {
            "text/plain": [
              "array([0.41307201, 0.41034074, 0.42084561, 0.42275316, 0.42456898,\n",
              "       0.42667961, 0.42888632, 0.43111166, 0.43330011, 0.43547371,\n",
              "       0.43761531, 0.43974283])"
            ]
          },
          "metadata": {
            "tags": []
          }
        },
        {
          "output_type": "display_data",
          "data": {
            "text/plain": [
              "array([0.41034074, 0.42084561, 0.42275316, 0.42456898, 0.42667961,\n",
              "       0.42888632, 0.43111166, 0.43330011, 0.43547371, 0.43761531,\n",
              "       0.43974283, 0.44185421])"
            ]
          },
          "metadata": {
            "tags": []
          }
        },
        {
          "output_type": "display_data",
          "data": {
            "text/plain": [
              "array([0.42084561, 0.42275316, 0.42456898, 0.42667961, 0.42888632,\n",
              "       0.43111166, 0.43330011, 0.43547371, 0.43761531, 0.43974283,\n",
              "       0.44185421, 0.44388014])"
            ]
          },
          "metadata": {
            "tags": []
          }
        },
        {
          "output_type": "display_data",
          "data": {
            "text/plain": [
              "array([0.42275316, 0.42456898, 0.42667961, 0.42888632, 0.43111166,\n",
              "       0.43330011, 0.43547371, 0.43761531, 0.43974283, 0.44185421,\n",
              "       0.44388014, 0.445894  ])"
            ]
          },
          "metadata": {
            "tags": []
          }
        },
        {
          "output_type": "display_data",
          "data": {
            "text/plain": [
              "array([0.42456898, 0.42667961, 0.42888632, 0.43111166, 0.43330011,\n",
              "       0.43547371, 0.43761531, 0.43974283, 0.44185421, 0.44388014,\n",
              "       0.445894  , 0.44788364])"
            ]
          },
          "metadata": {
            "tags": []
          }
        },
        {
          "output_type": "display_data",
          "data": {
            "text/plain": [
              "array([0.42667961, 0.42888632, 0.43111166, 0.43330011, 0.43547371,\n",
              "       0.43761531, 0.43974283, 0.44185421, 0.44388014, 0.445894  ,\n",
              "       0.44788364, 0.44984025])"
            ]
          },
          "metadata": {
            "tags": []
          }
        },
        {
          "output_type": "display_data",
          "data": {
            "text/plain": [
              "array([0.42888632, 0.43111166, 0.43330011, 0.43547371, 0.43761531,\n",
              "       0.43974283, 0.44185421, 0.44388014, 0.445894  , 0.44788364,\n",
              "       0.44984025, 0.45176652])"
            ]
          },
          "metadata": {
            "tags": []
          }
        },
        {
          "output_type": "display_data",
          "data": {
            "text/plain": [
              "array([0.43111166, 0.43330011, 0.43547371, 0.43761531, 0.43974283,\n",
              "       0.44185421, 0.44388014, 0.445894  , 0.44788364, 0.44984025,\n",
              "       0.45176652, 0.45366374])"
            ]
          },
          "metadata": {
            "tags": []
          }
        },
        {
          "output_type": "display_data",
          "data": {
            "text/plain": [
              "array([0.43330011, 0.43547371, 0.43761531, 0.43974283, 0.44185421,\n",
              "       0.44388014, 0.445894  , 0.44788364, 0.44984025, 0.45176652,\n",
              "       0.45366374, 0.45553237])"
            ]
          },
          "metadata": {
            "tags": []
          }
        },
        {
          "output_type": "display_data",
          "data": {
            "text/plain": [
              "array([0.43547371, 0.43761531, 0.43974283, 0.44185421, 0.44388014,\n",
              "       0.445894  , 0.44788364, 0.44984025, 0.45176652, 0.45366374,\n",
              "       0.45553237, 0.45737275])"
            ]
          },
          "metadata": {
            "tags": []
          }
        },
        {
          "output_type": "display_data",
          "data": {
            "text/plain": [
              "array([0.43761531, 0.43974283, 0.44185421, 0.44388014, 0.445894  ,\n",
              "       0.44788364, 0.44984025, 0.45176652, 0.45366374, 0.45553237,\n",
              "       0.45737275, 0.45918536])"
            ]
          },
          "metadata": {
            "tags": []
          }
        },
        {
          "output_type": "display_data",
          "data": {
            "text/plain": [
              "array([0.43974283, 0.44185421, 0.44388014, 0.445894  , 0.44788364,\n",
              "       0.44984025, 0.45176652, 0.45366374, 0.45553237, 0.45737275,\n",
              "       0.45918536, 0.46097055])"
            ]
          },
          "metadata": {
            "tags": []
          }
        },
        {
          "output_type": "display_data",
          "data": {
            "text/plain": [
              "array([0.44185421, 0.44388014, 0.445894  , 0.44788364, 0.44984025,\n",
              "       0.45176652, 0.45366374, 0.45553237, 0.45737275, 0.45918536,\n",
              "       0.46097055, 0.46272886])"
            ]
          },
          "metadata": {
            "tags": []
          }
        },
        {
          "output_type": "display_data",
          "data": {
            "text/plain": [
              "array([0.44388014, 0.445894  , 0.44788364, 0.44984025, 0.45176652,\n",
              "       0.45366374, 0.45553237, 0.45737275, 0.45918536, 0.46097055,\n",
              "       0.46272886, 0.46446103])"
            ]
          },
          "metadata": {
            "tags": []
          }
        },
        {
          "output_type": "display_data",
          "data": {
            "text/plain": [
              "array([0.445894  , 0.44788364, 0.44984025, 0.45176652, 0.45366374,\n",
              "       0.45553237, 0.45737275, 0.45918536, 0.46097055, 0.46272886,\n",
              "       0.46446103, 0.46616724])"
            ]
          },
          "metadata": {
            "tags": []
          }
        },
        {
          "output_type": "display_data",
          "data": {
            "text/plain": [
              "array([0.44788364, 0.44984025, 0.45176652, 0.45366374, 0.45553237,\n",
              "       0.45737275, 0.45918536, 0.46097055, 0.46272886, 0.46446103,\n",
              "       0.46616724, 0.46784806])"
            ]
          },
          "metadata": {
            "tags": []
          }
        },
        {
          "output_type": "display_data",
          "data": {
            "text/plain": [
              "array([0.44984025, 0.45176652, 0.45366374, 0.45553237, 0.45737275,\n",
              "       0.45918536, 0.46097055, 0.46272886, 0.46446103, 0.46616724,\n",
              "       0.46784806, 0.46950376])"
            ]
          },
          "metadata": {
            "tags": []
          }
        },
        {
          "output_type": "display_data",
          "data": {
            "text/plain": [
              "array([0.45176652, 0.45366374, 0.45553237, 0.45737275, 0.45918536,\n",
              "       0.46097055, 0.46272886, 0.46446103, 0.46616724, 0.46784806,\n",
              "       0.46950376, 0.47113496])"
            ]
          },
          "metadata": {
            "tags": []
          }
        },
        {
          "output_type": "display_data",
          "data": {
            "text/plain": [
              "array([0.45366374, 0.45553237, 0.45737275, 0.45918536, 0.46097055,\n",
              "       0.46272886, 0.46446103, 0.46616724, 0.46784806, 0.46950376,\n",
              "       0.47113496, 0.4727419 ])"
            ]
          },
          "metadata": {
            "tags": []
          }
        },
        {
          "output_type": "display_data",
          "data": {
            "text/plain": [
              "array([0.45553237, 0.45737275, 0.45918536, 0.46097055, 0.46272886,\n",
              "       0.46446103, 0.46616724, 0.46784806, 0.46950376, 0.47113496,\n",
              "       0.4727419 , 0.47432518])"
            ]
          },
          "metadata": {
            "tags": []
          }
        },
        {
          "output_type": "display_data",
          "data": {
            "text/plain": [
              "array([0.45737275, 0.45918536, 0.46097055, 0.46272886, 0.46446103,\n",
              "       0.46616724, 0.46784806, 0.46950376, 0.47113496, 0.4727419 ,\n",
              "       0.47432518, 0.47588503])"
            ]
          },
          "metadata": {
            "tags": []
          }
        },
        {
          "output_type": "display_data",
          "data": {
            "text/plain": [
              "array([0.45918536, 0.46097055, 0.46272886, 0.46446103, 0.46616724,\n",
              "       0.46784806, 0.46950376, 0.47113496, 0.4727419 , 0.47432518,\n",
              "       0.47588503, 0.47742188])"
            ]
          },
          "metadata": {
            "tags": []
          }
        },
        {
          "output_type": "display_data",
          "data": {
            "text/plain": [
              "array([0.46097055, 0.46272886, 0.46446103, 0.46616724, 0.46784806,\n",
              "       0.46950376, 0.47113496, 0.4727419 , 0.47432518, 0.47588503,\n",
              "       0.47742188, 0.47893611])"
            ]
          },
          "metadata": {
            "tags": []
          }
        },
        {
          "output_type": "display_data",
          "data": {
            "text/plain": [
              "array([0.46272886, 0.46446103, 0.46616724, 0.46784806, 0.46950376,\n",
              "       0.47113496, 0.4727419 , 0.47432518, 0.47588503, 0.47742188,\n",
              "       0.47893611, 0.48042819])"
            ]
          },
          "metadata": {
            "tags": []
          }
        },
        {
          "output_type": "display_data",
          "data": {
            "text/plain": [
              "array([0.46446103, 0.46616724, 0.46784806, 0.46950376, 0.47113496,\n",
              "       0.4727419 , 0.47432518, 0.47588503, 0.47742188, 0.47893611,\n",
              "       0.48042819, 0.48189834])"
            ]
          },
          "metadata": {
            "tags": []
          }
        },
        {
          "output_type": "display_data",
          "data": {
            "text/plain": [
              "array([0.46616724, 0.46784806, 0.46950376, 0.47113496, 0.4727419 ,\n",
              "       0.47432518, 0.47588503, 0.47742188, 0.47893611, 0.48042819,\n",
              "       0.48189834, 0.48334706])"
            ]
          },
          "metadata": {
            "tags": []
          }
        },
        {
          "output_type": "display_data",
          "data": {
            "text/plain": [
              "array([0.46784806, 0.46950376, 0.47113496, 0.4727419 , 0.47432518,\n",
              "       0.47588503, 0.47742188, 0.47893611, 0.48042819, 0.48189834,\n",
              "       0.48334706, 0.48477459])"
            ]
          },
          "metadata": {
            "tags": []
          }
        },
        {
          "output_type": "display_data",
          "data": {
            "text/plain": [
              "array([0.46950376, 0.47113496, 0.4727419 , 0.47432518, 0.47588503,\n",
              "       0.47742188, 0.47893611, 0.48042819, 0.48189834, 0.48334706,\n",
              "       0.48477459, 0.48618129])"
            ]
          },
          "metadata": {
            "tags": []
          }
        },
        {
          "output_type": "display_data",
          "data": {
            "text/plain": [
              "array([0.47113496, 0.4727419 , 0.47432518, 0.47588503, 0.47742188,\n",
              "       0.47893611, 0.48042819, 0.48189834, 0.48334706, 0.48477459,\n",
              "       0.48618129, 0.4875676 ])"
            ]
          },
          "metadata": {
            "tags": []
          }
        },
        {
          "output_type": "display_data",
          "data": {
            "text/plain": [
              "array([0.4727419 , 0.47432518, 0.47588503, 0.47742188, 0.47893611,\n",
              "       0.48042819, 0.48189834, 0.48334706, 0.48477459, 0.48618129,\n",
              "       0.4875676 , 0.48893377])"
            ]
          },
          "metadata": {
            "tags": []
          }
        },
        {
          "output_type": "display_data",
          "data": {
            "text/plain": [
              "array([0.47432518, 0.47588503, 0.47742188, 0.47893611, 0.48042819,\n",
              "       0.48189834, 0.48334706, 0.48477459, 0.48618129, 0.4875676 ,\n",
              "       0.48893377, 0.49028009])"
            ]
          },
          "metadata": {
            "tags": []
          }
        },
        {
          "output_type": "display_data",
          "data": {
            "text/plain": [
              "array([0.47588503, 0.47742188, 0.47893611, 0.48042819, 0.48189834,\n",
              "       0.48334706, 0.48477459, 0.48618129, 0.4875676 , 0.48893377,\n",
              "       0.49028009, 0.49160701])"
            ]
          },
          "metadata": {
            "tags": []
          }
        },
        {
          "output_type": "display_data",
          "data": {
            "text/plain": [
              "array([0.47742188, 0.47893611, 0.48042819, 0.48189834, 0.48334706,\n",
              "       0.48477459, 0.48618129, 0.4875676 , 0.48893377, 0.49028009,\n",
              "       0.49160701, 0.49291465])"
            ]
          },
          "metadata": {
            "tags": []
          }
        },
        {
          "output_type": "display_data",
          "data": {
            "text/plain": [
              "array([0.47893611, 0.48042819, 0.48189834, 0.48334706, 0.48477459,\n",
              "       0.48618129, 0.4875676 , 0.48893377, 0.49028009, 0.49160701,\n",
              "       0.49291465, 0.49420348])"
            ]
          },
          "metadata": {
            "tags": []
          }
        },
        {
          "output_type": "display_data",
          "data": {
            "text/plain": [
              "array([0.48042819, 0.48189834, 0.48334706, 0.48477459, 0.48618129,\n",
              "       0.4875676 , 0.48893377, 0.49028009, 0.49160701, 0.49291465,\n",
              "       0.49420348, 0.4954738 ])"
            ]
          },
          "metadata": {
            "tags": []
          }
        },
        {
          "output_type": "display_data",
          "data": {
            "text/plain": [
              "array([0.48189834, 0.48334706, 0.48477459, 0.48618129, 0.4875676 ,\n",
              "       0.48893377, 0.49028009, 0.49160701, 0.49291465, 0.49420348,\n",
              "       0.4954738 , 0.49672586])"
            ]
          },
          "metadata": {
            "tags": []
          }
        },
        {
          "output_type": "display_data",
          "data": {
            "text/plain": [
              "array([0.48334706, 0.48477459, 0.48618129, 0.4875676 , 0.48893377,\n",
              "       0.49028009, 0.49160701, 0.49291465, 0.49420348, 0.4954738 ,\n",
              "       0.49672586, 0.49795982])"
            ]
          },
          "metadata": {
            "tags": []
          }
        },
        {
          "output_type": "display_data",
          "data": {
            "text/plain": [
              "array([0.48477459, 0.48618129, 0.4875676 , 0.48893377, 0.49028009,\n",
              "       0.49160701, 0.49291465, 0.49420348, 0.4954738 , 0.49672586,\n",
              "       0.49795982, 0.49917623])"
            ]
          },
          "metadata": {
            "tags": []
          }
        },
        {
          "output_type": "display_data",
          "data": {
            "text/plain": [
              "array([0.48618129, 0.4875676 , 0.48893377, 0.49028009, 0.49160701,\n",
              "       0.49291465, 0.49420348, 0.4954738 , 0.49672586, 0.49795982,\n",
              "       0.49917623, 0.50037521])"
            ]
          },
          "metadata": {
            "tags": []
          }
        },
        {
          "output_type": "display_data",
          "data": {
            "text/plain": [
              "array([0.4875676 , 0.48893377, 0.49028009, 0.49160701, 0.49291465,\n",
              "       0.49420348, 0.4954738 , 0.49672586, 0.49795982, 0.49917623,\n",
              "       0.50037521, 0.50155699])"
            ]
          },
          "metadata": {
            "tags": []
          }
        },
        {
          "output_type": "display_data",
          "data": {
            "text/plain": [
              "array([0.48893377, 0.49028009, 0.49160701, 0.49291465, 0.49420348,\n",
              "       0.4954738 , 0.49672586, 0.49795982, 0.49917623, 0.50037521,\n",
              "       0.50155699, 0.50272202])"
            ]
          },
          "metadata": {
            "tags": []
          }
        },
        {
          "output_type": "display_data",
          "data": {
            "text/plain": [
              "array([0.49028009, 0.49160701, 0.49291465, 0.49420348, 0.4954738 ,\n",
              "       0.49672586, 0.49795982, 0.49917623, 0.50037521, 0.50155699,\n",
              "       0.50272202, 0.50387037])"
            ]
          },
          "metadata": {
            "tags": []
          }
        },
        {
          "output_type": "display_data",
          "data": {
            "text/plain": [
              "array([0.49160701, 0.49291465, 0.49420348, 0.4954738 , 0.49672586,\n",
              "       0.49795982, 0.49917623, 0.50037521, 0.50155699, 0.50272202,\n",
              "       0.50387037, 0.50500238])"
            ]
          },
          "metadata": {
            "tags": []
          }
        },
        {
          "output_type": "display_data",
          "data": {
            "text/plain": [
              "array([0.49291465, 0.49420348, 0.4954738 , 0.49672586, 0.49795982,\n",
              "       0.49917623, 0.50037521, 0.50155699, 0.50272202, 0.50387037,\n",
              "       0.50500238, 0.50611842])"
            ]
          },
          "metadata": {
            "tags": []
          }
        },
        {
          "output_type": "display_data",
          "data": {
            "text/plain": [
              "array([0.49420348, 0.4954738 , 0.49672586, 0.49795982, 0.49917623,\n",
              "       0.50037521, 0.50155699, 0.50272202, 0.50387037, 0.50500238,\n",
              "       0.50611842, 0.50721848])"
            ]
          },
          "metadata": {
            "tags": []
          }
        },
        {
          "output_type": "display_data",
          "data": {
            "text/plain": [
              "array([0.4954738 , 0.49672586, 0.49795982, 0.49917623, 0.50037521,\n",
              "       0.50155699, 0.50272202, 0.50387037, 0.50500238, 0.50611842,\n",
              "       0.50721848, 0.50830305])"
            ]
          },
          "metadata": {
            "tags": []
          }
        },
        {
          "output_type": "display_data",
          "data": {
            "text/plain": [
              "array([0.49672586, 0.49795982, 0.49917623, 0.50037521, 0.50155699,\n",
              "       0.50272202, 0.50387037, 0.50500238, 0.50611842, 0.50721848,\n",
              "       0.50830305, 0.50937223])"
            ]
          },
          "metadata": {
            "tags": []
          }
        },
        {
          "output_type": "display_data",
          "data": {
            "text/plain": [
              "array([0.49795982, 0.49917623, 0.50037521, 0.50155699, 0.50272202,\n",
              "       0.50387037, 0.50500238, 0.50611842, 0.50721848, 0.50830305,\n",
              "       0.50937223, 0.51042634])"
            ]
          },
          "metadata": {
            "tags": []
          }
        },
        {
          "output_type": "display_data",
          "data": {
            "text/plain": [
              "array([0.49917623, 0.50037521, 0.50155699, 0.50272202, 0.50387037,\n",
              "       0.50500238, 0.50611842, 0.50721848, 0.50830305, 0.50937223,\n",
              "       0.51042634, 0.51146555])"
            ]
          },
          "metadata": {
            "tags": []
          }
        },
        {
          "output_type": "display_data",
          "data": {
            "text/plain": [
              "array([0.50037521, 0.50155699, 0.50272202, 0.50387037, 0.50500238,\n",
              "       0.50611842, 0.50721848, 0.50830305, 0.50937223, 0.51042634,\n",
              "       0.51146555, 0.51249015])"
            ]
          },
          "metadata": {
            "tags": []
          }
        },
        {
          "output_type": "display_data",
          "data": {
            "text/plain": [
              "array([0.50155699, 0.50272202, 0.50387037, 0.50500238, 0.50611842,\n",
              "       0.50721848, 0.50830305, 0.50937223, 0.51042634, 0.51146555,\n",
              "       0.51249015, 0.51350033])"
            ]
          },
          "metadata": {
            "tags": []
          }
        },
        {
          "output_type": "display_data",
          "data": {
            "text/plain": [
              "array([0.50272202, 0.50387037, 0.50500238, 0.50611842, 0.50721848,\n",
              "       0.50830305, 0.50937223, 0.51042634, 0.51146555, 0.51249015,\n",
              "       0.51350033, 0.51449198])"
            ]
          },
          "metadata": {
            "tags": []
          }
        },
        {
          "output_type": "display_data",
          "data": {
            "text/plain": [
              "array([0.50387037, 0.50500238, 0.50611842, 0.50721848, 0.50830305,\n",
              "       0.50937223, 0.51042634, 0.51146555, 0.51249015, 0.51350033,\n",
              "       0.51449198, 0.51546764])"
            ]
          },
          "metadata": {
            "tags": []
          }
        },
        {
          "output_type": "display_data",
          "data": {
            "text/plain": [
              "array([0.50500238, 0.50611842, 0.50721848, 0.50830305, 0.50937223,\n",
              "       0.51042634, 0.51146555, 0.51249015, 0.51350033, 0.51449198,\n",
              "       0.51546764, 0.51642847])"
            ]
          },
          "metadata": {
            "tags": []
          }
        },
        {
          "output_type": "display_data",
          "data": {
            "text/plain": [
              "array([0.50611842, 0.50721848, 0.50830305, 0.50937223, 0.51042634,\n",
              "       0.51146555, 0.51249015, 0.51350033, 0.51449198, 0.51546764,\n",
              "       0.51642847, 0.51737446])"
            ]
          },
          "metadata": {
            "tags": []
          }
        },
        {
          "output_type": "display_data",
          "data": {
            "text/plain": [
              "array([0.50721848, 0.50830305, 0.50937223, 0.51042634, 0.51146555,\n",
              "       0.51249015, 0.51350033, 0.51449198, 0.51546764, 0.51642847,\n",
              "       0.51737446, 0.51830584])"
            ]
          },
          "metadata": {
            "tags": []
          }
        },
        {
          "output_type": "display_data",
          "data": {
            "text/plain": [
              "array([0.50830305, 0.50937223, 0.51042634, 0.51146555, 0.51249015,\n",
              "       0.51350033, 0.51449198, 0.51546764, 0.51642847, 0.51737446,\n",
              "       0.51830584, 0.5192228 ])"
            ]
          },
          "metadata": {
            "tags": []
          }
        },
        {
          "output_type": "display_data",
          "data": {
            "text/plain": [
              "array([0.50937223, 0.51042634, 0.51146555, 0.51249015, 0.51350033,\n",
              "       0.51449198, 0.51546764, 0.51642847, 0.51737446, 0.51830584,\n",
              "       0.5192228 , 0.52012551])"
            ]
          },
          "metadata": {
            "tags": []
          }
        },
        {
          "output_type": "display_data",
          "data": {
            "text/plain": [
              "array([0.51042634, 0.51146555, 0.51249015, 0.51350033, 0.51449198,\n",
              "       0.51546764, 0.51642847, 0.51737446, 0.51830584, 0.5192228 ,\n",
              "       0.52012551, 0.52101433])"
            ]
          },
          "metadata": {
            "tags": []
          }
        },
        {
          "output_type": "display_data",
          "data": {
            "text/plain": [
              "array([0.51146555, 0.51249015, 0.51350033, 0.51449198, 0.51546764,\n",
              "       0.51642847, 0.51737446, 0.51830584, 0.5192228 , 0.52012551,\n",
              "       0.52101433, 0.52188933])"
            ]
          },
          "metadata": {
            "tags": []
          }
        },
        {
          "output_type": "display_data",
          "data": {
            "text/plain": [
              "array([0.51249015, 0.51350033, 0.51449198, 0.51546764, 0.51642847,\n",
              "       0.51737446, 0.51830584, 0.5192228 , 0.52012551, 0.52101433,\n",
              "       0.52188933, 0.52275074])"
            ]
          },
          "metadata": {
            "tags": []
          }
        },
        {
          "output_type": "display_data",
          "data": {
            "text/plain": [
              "array([0.51350033, 0.51449198, 0.51546764, 0.51642847, 0.51737446,\n",
              "       0.51830584, 0.5192228 , 0.52012551, 0.52101433, 0.52188933,\n",
              "       0.52275074, 0.52359891])"
            ]
          },
          "metadata": {
            "tags": []
          }
        },
        {
          "output_type": "display_data",
          "data": {
            "text/plain": [
              "array([0.51449198, 0.51546764, 0.51642847, 0.51737446, 0.51830584,\n",
              "       0.5192228 , 0.52012551, 0.52101433, 0.52188933, 0.52275074,\n",
              "       0.52359891, 0.52443397])"
            ]
          },
          "metadata": {
            "tags": []
          }
        },
        {
          "output_type": "display_data",
          "data": {
            "text/plain": [
              "array([0.51546764, 0.51642847, 0.51737446, 0.51830584, 0.5192228 ,\n",
              "       0.52012551, 0.52101433, 0.52188933, 0.52275074, 0.52359891,\n",
              "       0.52443397, 0.52525616])"
            ]
          },
          "metadata": {
            "tags": []
          }
        },
        {
          "output_type": "display_data",
          "data": {
            "text/plain": [
              "array([0.51642847, 0.51737446, 0.51830584, 0.5192228 , 0.52012551,\n",
              "       0.52101433, 0.52188933, 0.52275074, 0.52359891, 0.52443397,\n",
              "       0.52525616, 0.52606571])"
            ]
          },
          "metadata": {
            "tags": []
          }
        },
        {
          "output_type": "display_data",
          "data": {
            "text/plain": [
              "array([0.51737446, 0.51830584, 0.5192228 , 0.52012551, 0.52101433,\n",
              "       0.52188933, 0.52275074, 0.52359891, 0.52443397, 0.52525616,\n",
              "       0.52606571, 0.52686274])"
            ]
          },
          "metadata": {
            "tags": []
          }
        },
        {
          "output_type": "display_data",
          "data": {
            "text/plain": [
              "array([0.51830584, 0.5192228 , 0.52012551, 0.52101433, 0.52188933,\n",
              "       0.52275074, 0.52359891, 0.52443397, 0.52525616, 0.52606571,\n",
              "       0.52686274, 0.52764761])"
            ]
          },
          "metadata": {
            "tags": []
          }
        },
        {
          "output_type": "display_data",
          "data": {
            "text/plain": [
              "array([0.5192228 , 0.52012551, 0.52101433, 0.52188933, 0.52275074,\n",
              "       0.52359891, 0.52443397, 0.52525616, 0.52606571, 0.52686274,\n",
              "       0.52764761, 0.52842033])"
            ]
          },
          "metadata": {
            "tags": []
          }
        },
        {
          "output_type": "display_data",
          "data": {
            "text/plain": [
              "array([0.52012551, 0.52101433, 0.52188933, 0.52275074, 0.52359891,\n",
              "       0.52443397, 0.52525616, 0.52606571, 0.52686274, 0.52764761,\n",
              "       0.52842033, 0.52918124])"
            ]
          },
          "metadata": {
            "tags": []
          }
        },
        {
          "output_type": "display_data",
          "data": {
            "text/plain": [
              "array([0.52101433, 0.52188933, 0.52275074, 0.52359891, 0.52443397,\n",
              "       0.52525616, 0.52606571, 0.52686274, 0.52764761, 0.52842033,\n",
              "       0.52918124, 0.52993059])"
            ]
          },
          "metadata": {
            "tags": []
          }
        },
        {
          "output_type": "display_data",
          "data": {
            "text/plain": [
              "array([0.52188933, 0.52275074, 0.52359891, 0.52443397, 0.52525616,\n",
              "       0.52606571, 0.52686274, 0.52764761, 0.52842033, 0.52918124,\n",
              "       0.52993059, 0.53066838])"
            ]
          },
          "metadata": {
            "tags": []
          }
        },
        {
          "output_type": "display_data",
          "data": {
            "text/plain": [
              "array([0.52275074, 0.52359891, 0.52443397, 0.52525616, 0.52606571,\n",
              "       0.52686274, 0.52764761, 0.52842033, 0.52918124, 0.52993059,\n",
              "       0.53066838, 0.53139484])"
            ]
          },
          "metadata": {
            "tags": []
          }
        },
        {
          "output_type": "display_data",
          "data": {
            "text/plain": [
              "array([0.52359891, 0.52443397, 0.52525616, 0.52606571, 0.52686274,\n",
              "       0.52764761, 0.52842033, 0.52918124, 0.52993059, 0.53066838,\n",
              "       0.53139484, 0.53211021])"
            ]
          },
          "metadata": {
            "tags": []
          }
        },
        {
          "output_type": "display_data",
          "data": {
            "text/plain": [
              "array([0.52443397, 0.52525616, 0.52606571, 0.52686274, 0.52764761,\n",
              "       0.52842033, 0.52918124, 0.52993059, 0.53066838, 0.53139484,\n",
              "       0.53211021, 0.53281474])"
            ]
          },
          "metadata": {
            "tags": []
          }
        },
        {
          "output_type": "display_data",
          "data": {
            "text/plain": [
              "array([0.52525616, 0.52606571, 0.52686274, 0.52764761, 0.52842033,\n",
              "       0.52918124, 0.52993059, 0.53066838, 0.53139484, 0.53211021,\n",
              "       0.53281474, 0.53350842])"
            ]
          },
          "metadata": {
            "tags": []
          }
        },
        {
          "output_type": "display_data",
          "data": {
            "text/plain": [
              "array([0.52606571, 0.52686274, 0.52764761, 0.52842033, 0.52918124,\n",
              "       0.52993059, 0.53066838, 0.53139484, 0.53211021, 0.53281474,\n",
              "       0.53350842, 0.53419149])"
            ]
          },
          "metadata": {
            "tags": []
          }
        },
        {
          "output_type": "display_data",
          "data": {
            "text/plain": [
              "array([0.52686274, 0.52764761, 0.52842033, 0.52918124, 0.52993059,\n",
              "       0.53066838, 0.53139484, 0.53211021, 0.53281474, 0.53350842,\n",
              "       0.53419149, 0.53486419])"
            ]
          },
          "metadata": {
            "tags": []
          }
        },
        {
          "output_type": "display_data",
          "data": {
            "text/plain": [
              "array([0.52764761, 0.52842033, 0.52918124, 0.52993059, 0.53066838,\n",
              "       0.53139484, 0.53211021, 0.53281474, 0.53350842, 0.53419149,\n",
              "       0.53486419, 0.53552663])"
            ]
          },
          "metadata": {
            "tags": []
          }
        },
        {
          "output_type": "display_data",
          "data": {
            "text/plain": [
              "array([0.52842033, 0.52918124, 0.52993059, 0.53066838, 0.53139484,\n",
              "       0.53211021, 0.53281474, 0.53350842, 0.53419149, 0.53486419,\n",
              "       0.53552663, 0.53617907])"
            ]
          },
          "metadata": {
            "tags": []
          }
        },
        {
          "output_type": "display_data",
          "data": {
            "text/plain": [
              "array([0.52918124, 0.52993059, 0.53066838, 0.53139484, 0.53211021,\n",
              "       0.53281474, 0.53350842, 0.53419149, 0.53486419, 0.53552663,\n",
              "       0.53617907, 0.53682154])"
            ]
          },
          "metadata": {
            "tags": []
          }
        },
        {
          "output_type": "display_data",
          "data": {
            "text/plain": [
              "array([0.52993059, 0.53066838, 0.53139484, 0.53211021, 0.53281474,\n",
              "       0.53350842, 0.53419149, 0.53486419, 0.53552663, 0.53617907,\n",
              "       0.53682154, 0.53745425])"
            ]
          },
          "metadata": {
            "tags": []
          }
        },
        {
          "output_type": "display_data",
          "data": {
            "text/plain": [
              "array([0.53066838, 0.53139484, 0.53211021, 0.53281474, 0.53350842,\n",
              "       0.53419149, 0.53486419, 0.53552663, 0.53617907, 0.53682154,\n",
              "       0.53745425, 0.53807735])"
            ]
          },
          "metadata": {
            "tags": []
          }
        },
        {
          "output_type": "display_data",
          "data": {
            "text/plain": [
              "array([0.53139484, 0.53211021, 0.53281474, 0.53350842, 0.53419149,\n",
              "       0.53486419, 0.53552663, 0.53617907, 0.53682154, 0.53745425,\n",
              "       0.53807735, 0.53869092])"
            ]
          },
          "metadata": {
            "tags": []
          }
        },
        {
          "output_type": "display_data",
          "data": {
            "text/plain": [
              "array([0.53211021, 0.53281474, 0.53350842, 0.53419149, 0.53486419,\n",
              "       0.53552663, 0.53617907, 0.53682154, 0.53745425, 0.53807735,\n",
              "       0.53869092, 0.53929532])"
            ]
          },
          "metadata": {
            "tags": []
          }
        },
        {
          "output_type": "display_data",
          "data": {
            "text/plain": [
              "array([0.53281474, 0.53350842, 0.53419149, 0.53486419, 0.53552663,\n",
              "       0.53617907, 0.53682154, 0.53745425, 0.53807735, 0.53869092,\n",
              "       0.53929532, 0.53989053])"
            ]
          },
          "metadata": {
            "tags": []
          }
        },
        {
          "output_type": "display_data",
          "data": {
            "text/plain": [
              "array([0.53350842, 0.53419149, 0.53486419, 0.53552663, 0.53617907,\n",
              "       0.53682154, 0.53745425, 0.53807735, 0.53869092, 0.53929532,\n",
              "       0.53989053, 0.54047674])"
            ]
          },
          "metadata": {
            "tags": []
          }
        },
        {
          "output_type": "display_data",
          "data": {
            "text/plain": [
              "array([0.53419149, 0.53486419, 0.53552663, 0.53617907, 0.53682154,\n",
              "       0.53745425, 0.53807735, 0.53869092, 0.53929532, 0.53989053,\n",
              "       0.54047674, 0.54105401])"
            ]
          },
          "metadata": {
            "tags": []
          }
        },
        {
          "output_type": "display_data",
          "data": {
            "text/plain": [
              "array([0.53486419, 0.53552663, 0.53617907, 0.53682154, 0.53745425,\n",
              "       0.53807735, 0.53869092, 0.53929532, 0.53989053, 0.54047674,\n",
              "       0.54105401, 0.54162264])"
            ]
          },
          "metadata": {
            "tags": []
          }
        },
        {
          "output_type": "display_data",
          "data": {
            "text/plain": [
              "array([0.53552663, 0.53617907, 0.53682154, 0.53745425, 0.53807735,\n",
              "       0.53869092, 0.53929532, 0.53989053, 0.54047674, 0.54105401,\n",
              "       0.54162264, 0.54218256])"
            ]
          },
          "metadata": {
            "tags": []
          }
        },
        {
          "output_type": "display_data",
          "data": {
            "text/plain": [
              "array([0.53617907, 0.53682154, 0.53745425, 0.53807735, 0.53869092,\n",
              "       0.53929532, 0.53989053, 0.54047674, 0.54105401, 0.54162264,\n",
              "       0.54218256, 0.54273415])"
            ]
          },
          "metadata": {
            "tags": []
          }
        },
        {
          "output_type": "display_data",
          "data": {
            "text/plain": [
              "array([0.53682154, 0.53745425, 0.53807735, 0.53869092, 0.53929532,\n",
              "       0.53989053, 0.54047674, 0.54105401, 0.54162264, 0.54218256,\n",
              "       0.54273415, 0.54327738])"
            ]
          },
          "metadata": {
            "tags": []
          }
        },
        {
          "output_type": "display_data",
          "data": {
            "text/plain": [
              "array([0.53745425, 0.53807735, 0.53869092, 0.53929532, 0.53989053,\n",
              "       0.54047674, 0.54105401, 0.54162264, 0.54218256, 0.54273415,\n",
              "       0.54327738, 0.54381239])"
            ]
          },
          "metadata": {
            "tags": []
          }
        },
        {
          "output_type": "display_data",
          "data": {
            "text/plain": [
              "array([0.53807735, 0.53869092, 0.53929532, 0.53989053, 0.54047674,\n",
              "       0.54105401, 0.54162264, 0.54218256, 0.54273415, 0.54327738,\n",
              "       0.54381239, 0.54433936])"
            ]
          },
          "metadata": {
            "tags": []
          }
        },
        {
          "output_type": "display_data",
          "data": {
            "text/plain": [
              "array([0.53869092, 0.53929532, 0.53989053, 0.54047674, 0.54105401,\n",
              "       0.54162264, 0.54218256, 0.54273415, 0.54327738, 0.54381239,\n",
              "       0.54433936, 0.5448584 ])"
            ]
          },
          "metadata": {
            "tags": []
          }
        },
        {
          "output_type": "display_data",
          "data": {
            "text/plain": [
              "array([0.53929532, 0.53989053, 0.54047674, 0.54105401, 0.54162264,\n",
              "       0.54218256, 0.54273415, 0.54327738, 0.54381239, 0.54433936,\n",
              "       0.5448584 , 0.54536963])"
            ]
          },
          "metadata": {
            "tags": []
          }
        },
        {
          "output_type": "display_data",
          "data": {
            "text/plain": [
              "array([0.53989053, 0.54047674, 0.54105401, 0.54162264, 0.54218256,\n",
              "       0.54273415, 0.54327738, 0.54381239, 0.54433936, 0.5448584 ,\n",
              "       0.54536963, 0.54587317])"
            ]
          },
          "metadata": {
            "tags": []
          }
        },
        {
          "output_type": "display_data",
          "data": {
            "text/plain": [
              "array([0.54047674, 0.54105401, 0.54162264, 0.54218256, 0.54273415,\n",
              "       0.54327738, 0.54381239, 0.54433936, 0.5448584 , 0.54536963,\n",
              "       0.54587317, 0.54636902])"
            ]
          },
          "metadata": {
            "tags": []
          }
        },
        {
          "output_type": "display_data",
          "data": {
            "text/plain": [
              "array([0.54105401, 0.54162264, 0.54218256, 0.54273415, 0.54327738,\n",
              "       0.54381239, 0.54433936, 0.5448584 , 0.54536963, 0.54587317,\n",
              "       0.54636902, 0.54685748])"
            ]
          },
          "metadata": {
            "tags": []
          }
        },
        {
          "output_type": "display_data",
          "data": {
            "text/plain": [
              "array([0.54162264, 0.54218256, 0.54273415, 0.54327738, 0.54381239,\n",
              "       0.54433936, 0.5448584 , 0.54536963, 0.54587317, 0.54636902,\n",
              "       0.54685748, 0.54733872])"
            ]
          },
          "metadata": {
            "tags": []
          }
        },
        {
          "output_type": "display_data",
          "data": {
            "text/plain": [
              "array([0.54218256, 0.54273415, 0.54327738, 0.54381239, 0.54433936,\n",
              "       0.5448584 , 0.54536963, 0.54587317, 0.54636902, 0.54685748,\n",
              "       0.54733872, 0.54781264])"
            ]
          },
          "metadata": {
            "tags": []
          }
        },
        {
          "output_type": "display_data",
          "data": {
            "text/plain": [
              "array([0.54273415, 0.54327738, 0.54381239, 0.54433936, 0.5448584 ,\n",
              "       0.54536963, 0.54587317, 0.54636902, 0.54685748, 0.54733872,\n",
              "       0.54781264, 0.54827946])"
            ]
          },
          "metadata": {
            "tags": []
          }
        },
        {
          "output_type": "display_data",
          "data": {
            "text/plain": [
              "array([0.54327738, 0.54381239, 0.54433936, 0.5448584 , 0.54536963,\n",
              "       0.54587317, 0.54636902, 0.54685748, 0.54733872, 0.54781264,\n",
              "       0.54827946, 0.54873931])"
            ]
          },
          "metadata": {
            "tags": []
          }
        },
        {
          "output_type": "display_data",
          "data": {
            "text/plain": [
              "array([0.54381239, 0.54433936, 0.5448584 , 0.54536963, 0.54587317,\n",
              "       0.54636902, 0.54685748, 0.54733872, 0.54781264, 0.54827946,\n",
              "       0.54873931, 0.54919219])"
            ]
          },
          "metadata": {
            "tags": []
          }
        },
        {
          "output_type": "display_data",
          "data": {
            "text/plain": [
              "array([0.54433936, 0.5448584 , 0.54536963, 0.54587317, 0.54636902,\n",
              "       0.54685748, 0.54733872, 0.54781264, 0.54827946, 0.54873931,\n",
              "       0.54919219, 0.54963839])"
            ]
          },
          "metadata": {
            "tags": []
          }
        },
        {
          "output_type": "display_data",
          "data": {
            "text/plain": [
              "array([0.5448584 , 0.54536963, 0.54587317, 0.54636902, 0.54685748,\n",
              "       0.54733872, 0.54781264, 0.54827946, 0.54873931, 0.54919219,\n",
              "       0.54963839, 0.55007786])"
            ]
          },
          "metadata": {
            "tags": []
          }
        },
        {
          "output_type": "display_data",
          "data": {
            "text/plain": [
              "array([0.54536963, 0.54587317, 0.54636902, 0.54685748, 0.54733872,\n",
              "       0.54781264, 0.54827946, 0.54873931, 0.54919219, 0.54963839,\n",
              "       0.55007786, 0.55051076])"
            ]
          },
          "metadata": {
            "tags": []
          }
        },
        {
          "output_type": "display_data",
          "data": {
            "text/plain": [
              "array([0.54587317, 0.54636902, 0.54685748, 0.54733872, 0.54781264,\n",
              "       0.54827946, 0.54873931, 0.54919219, 0.54963839, 0.55007786,\n",
              "       0.55051076, 0.55093718])"
            ]
          },
          "metadata": {
            "tags": []
          }
        },
        {
          "output_type": "display_data",
          "data": {
            "text/plain": [
              "array([0.54636902, 0.54685748, 0.54733872, 0.54781264, 0.54827946,\n",
              "       0.54873931, 0.54919219, 0.54963839, 0.55007786, 0.55051076,\n",
              "       0.55093718, 0.55135727])"
            ]
          },
          "metadata": {
            "tags": []
          }
        },
        {
          "output_type": "display_data",
          "data": {
            "text/plain": [
              "array([0.54685748, 0.54733872, 0.54781264, 0.54827946, 0.54873931,\n",
              "       0.54919219, 0.54963839, 0.55007786, 0.55051076, 0.55093718,\n",
              "       0.55135727, 0.55177104])"
            ]
          },
          "metadata": {
            "tags": []
          }
        },
        {
          "output_type": "display_data",
          "data": {
            "text/plain": [
              "array([0.54733872, 0.54781264, 0.54827946, 0.54873931, 0.54919219,\n",
              "       0.54963839, 0.55007786, 0.55051076, 0.55093718, 0.55135727,\n",
              "       0.55177104, 0.55217862])"
            ]
          },
          "metadata": {
            "tags": []
          }
        },
        {
          "output_type": "display_data",
          "data": {
            "text/plain": [
              "array([0.54781264, 0.54827946, 0.54873931, 0.54919219, 0.54963839,\n",
              "       0.55007786, 0.55051076, 0.55093718, 0.55135727, 0.55177104,\n",
              "       0.55217862, 0.55258012])"
            ]
          },
          "metadata": {
            "tags": []
          }
        },
        {
          "output_type": "display_data",
          "data": {
            "text/plain": [
              "array([0.54827946, 0.54873931, 0.54919219, 0.54963839, 0.55007786,\n",
              "       0.55051076, 0.55093718, 0.55135727, 0.55177104, 0.55217862,\n",
              "       0.55258012, 0.55297565])"
            ]
          },
          "metadata": {
            "tags": []
          }
        },
        {
          "output_type": "display_data",
          "data": {
            "text/plain": [
              "array([0.54873931, 0.54919219, 0.54963839, 0.55007786, 0.55051076,\n",
              "       0.55093718, 0.55135727, 0.55177104, 0.55217862, 0.55258012,\n",
              "       0.55297565, 0.55336523])"
            ]
          },
          "metadata": {
            "tags": []
          }
        },
        {
          "output_type": "display_data",
          "data": {
            "text/plain": [
              "array([0.54919219, 0.54963839, 0.55007786, 0.55051076, 0.55093718,\n",
              "       0.55135727, 0.55177104, 0.55217862, 0.55258012, 0.55297565,\n",
              "       0.55336523, 0.55374908])"
            ]
          },
          "metadata": {
            "tags": []
          }
        },
        {
          "output_type": "display_data",
          "data": {
            "text/plain": [
              "array([0.54963839, 0.55007786, 0.55051076, 0.55093718, 0.55135727,\n",
              "       0.55177104, 0.55217862, 0.55258012, 0.55297565, 0.55336523,\n",
              "       0.55374908, 0.55412716])"
            ]
          },
          "metadata": {
            "tags": []
          }
        },
        {
          "output_type": "display_data",
          "data": {
            "text/plain": [
              "array([0.55007786, 0.55051076, 0.55093718, 0.55135727, 0.55177104,\n",
              "       0.55217862, 0.55258012, 0.55297565, 0.55336523, 0.55374908,\n",
              "       0.55412716, 0.55449963])"
            ]
          },
          "metadata": {
            "tags": []
          }
        },
        {
          "output_type": "display_data",
          "data": {
            "text/plain": [
              "array([0.55051076, 0.55093718, 0.55135727, 0.55177104, 0.55217862,\n",
              "       0.55258012, 0.55297565, 0.55336523, 0.55374908, 0.55412716,\n",
              "       0.55449963, 0.55486655])"
            ]
          },
          "metadata": {
            "tags": []
          }
        },
        {
          "output_type": "display_data",
          "data": {
            "text/plain": [
              "array([0.55093718, 0.55135727, 0.55177104, 0.55217862, 0.55258012,\n",
              "       0.55297565, 0.55336523, 0.55374908, 0.55412716, 0.55449963,\n",
              "       0.55486655, 0.55522799])"
            ]
          },
          "metadata": {
            "tags": []
          }
        },
        {
          "output_type": "display_data",
          "data": {
            "text/plain": [
              "array([0.55135727, 0.55177104, 0.55217862, 0.55258012, 0.55297565,\n",
              "       0.55336523, 0.55374908, 0.55412716, 0.55449963, 0.55486655,\n",
              "       0.55522799, 0.55558407])"
            ]
          },
          "metadata": {
            "tags": []
          }
        },
        {
          "output_type": "display_data",
          "data": {
            "text/plain": [
              "array([0.55177104, 0.55217862, 0.55258012, 0.55297565, 0.55336523,\n",
              "       0.55374908, 0.55412716, 0.55449963, 0.55486655, 0.55522799,\n",
              "       0.55558407, 0.55593479])"
            ]
          },
          "metadata": {
            "tags": []
          }
        },
        {
          "output_type": "display_data",
          "data": {
            "text/plain": [
              "array([0.55217862, 0.55258012, 0.55297565, 0.55336523, 0.55374908,\n",
              "       0.55412716, 0.55449963, 0.55486655, 0.55522799, 0.55558407,\n",
              "       0.55593479, 0.55628043])"
            ]
          },
          "metadata": {
            "tags": []
          }
        },
        {
          "output_type": "display_data",
          "data": {
            "text/plain": [
              "array([0.55258012, 0.55297565, 0.55336523, 0.55374908, 0.55412716,\n",
              "       0.55449963, 0.55486655, 0.55522799, 0.55558407, 0.55593479,\n",
              "       0.55628043, 0.55662084])"
            ]
          },
          "metadata": {
            "tags": []
          }
        },
        {
          "output_type": "display_data",
          "data": {
            "text/plain": [
              "array([0.55297565, 0.55336523, 0.55374908, 0.55412716, 0.55449963,\n",
              "       0.55486655, 0.55522799, 0.55558407, 0.55593479, 0.55628043,\n",
              "       0.55662084, 0.55695623])"
            ]
          },
          "metadata": {
            "tags": []
          }
        },
        {
          "output_type": "display_data",
          "data": {
            "text/plain": [
              "array([0.55336523, 0.55374908, 0.55412716, 0.55449963, 0.55486655,\n",
              "       0.55522799, 0.55558407, 0.55593479, 0.55628043, 0.55662084,\n",
              "       0.55695623, 0.55728662])"
            ]
          },
          "metadata": {
            "tags": []
          }
        },
        {
          "output_type": "display_data",
          "data": {
            "text/plain": [
              "array([0.55374908, 0.55412716, 0.55449963, 0.55486655, 0.55522799,\n",
              "       0.55558407, 0.55593479, 0.55628043, 0.55662084, 0.55695623,\n",
              "       0.55728662, 0.55761218])"
            ]
          },
          "metadata": {
            "tags": []
          }
        },
        {
          "output_type": "display_data",
          "data": {
            "text/plain": [
              "array([0.55412716, 0.55449963, 0.55486655, 0.55522799, 0.55558407,\n",
              "       0.55593479, 0.55628043, 0.55662084, 0.55695623, 0.55728662,\n",
              "       0.55761218, 0.55793279])"
            ]
          },
          "metadata": {
            "tags": []
          }
        },
        {
          "output_type": "display_data",
          "data": {
            "text/plain": [
              "array([0.55449963, 0.55486655, 0.55522799, 0.55558407, 0.55593479,\n",
              "       0.55628043, 0.55662084, 0.55695623, 0.55728662, 0.55761218,\n",
              "       0.55793279, 0.55824876])"
            ]
          },
          "metadata": {
            "tags": []
          }
        },
        {
          "output_type": "display_data",
          "data": {
            "text/plain": [
              "array([0.55486655, 0.55522799, 0.55558407, 0.55593479, 0.55628043,\n",
              "       0.55662084, 0.55695623, 0.55728662, 0.55761218, 0.55793279,\n",
              "       0.55824876, 0.55855995])"
            ]
          },
          "metadata": {
            "tags": []
          }
        },
        {
          "output_type": "display_data",
          "data": {
            "text/plain": [
              "array([0.55522799, 0.55558407, 0.55593479, 0.55628043, 0.55662084,\n",
              "       0.55695623, 0.55728662, 0.55761218, 0.55793279, 0.55824876,\n",
              "       0.55855995, 0.55886662])"
            ]
          },
          "metadata": {
            "tags": []
          }
        },
        {
          "output_type": "display_data",
          "data": {
            "text/plain": [
              "array([0.55558407, 0.55593479, 0.55628043, 0.55662084, 0.55695623,\n",
              "       0.55728662, 0.55761218, 0.55793279, 0.55824876, 0.55855995,\n",
              "       0.55886662, 0.5591687 ])"
            ]
          },
          "metadata": {
            "tags": []
          }
        },
        {
          "output_type": "display_data",
          "data": {
            "text/plain": [
              "array([0.55593479, 0.55628043, 0.55662084, 0.55695623, 0.55728662,\n",
              "       0.55761218, 0.55793279, 0.55824876, 0.55855995, 0.55886662,\n",
              "       0.5591687 , 0.5594663 ])"
            ]
          },
          "metadata": {
            "tags": []
          }
        },
        {
          "output_type": "display_data",
          "data": {
            "text/plain": [
              "array([0.55628043, 0.55662084, 0.55695623, 0.55728662, 0.55761218,\n",
              "       0.55793279, 0.55824876, 0.55855995, 0.55886662, 0.5591687 ,\n",
              "       0.5594663 , 0.5597595 ])"
            ]
          },
          "metadata": {
            "tags": []
          }
        },
        {
          "output_type": "display_data",
          "data": {
            "text/plain": [
              "array([0.55662084, 0.55695623, 0.55728662, 0.55761218, 0.55793279,\n",
              "       0.55824876, 0.55855995, 0.55886662, 0.5591687 , 0.5594663 ,\n",
              "       0.5597595 , 0.56004834])"
            ]
          },
          "metadata": {
            "tags": []
          }
        },
        {
          "output_type": "display_data",
          "data": {
            "text/plain": [
              "array([0.55695623, 0.55728662, 0.55761218, 0.55793279, 0.55824876,\n",
              "       0.55855995, 0.55886662, 0.5591687 , 0.5594663 , 0.5597595 ,\n",
              "       0.56004834, 0.56033301])"
            ]
          },
          "metadata": {
            "tags": []
          }
        },
        {
          "output_type": "display_data",
          "data": {
            "text/plain": [
              "array([0.55728662, 0.55761218, 0.55793279, 0.55824876, 0.55855995,\n",
              "       0.55886662, 0.5591687 , 0.5594663 , 0.5597595 , 0.56004834,\n",
              "       0.56033301, 0.56061339])"
            ]
          },
          "metadata": {
            "tags": []
          }
        },
        {
          "output_type": "display_data",
          "data": {
            "text/plain": [
              "array([0.55761218, 0.55793279, 0.55824876, 0.55855995, 0.55886662,\n",
              "       0.5591687 , 0.5594663 , 0.5597595 , 0.56004834, 0.56033301,\n",
              "       0.56061339, 0.5608896 ])"
            ]
          },
          "metadata": {
            "tags": []
          }
        },
        {
          "output_type": "display_data",
          "data": {
            "text/plain": [
              "array([0.55793279, 0.55824876, 0.55855995, 0.55886662, 0.5591687 ,\n",
              "       0.5594663 , 0.5597595 , 0.56004834, 0.56033301, 0.56061339,\n",
              "       0.5608896 , 0.56116176])"
            ]
          },
          "metadata": {
            "tags": []
          }
        },
        {
          "output_type": "display_data",
          "data": {
            "text/plain": [
              "array([0.55824876, 0.55855995, 0.55886662, 0.5591687 , 0.5594663 ,\n",
              "       0.5597595 , 0.56004834, 0.56033301, 0.56061339, 0.5608896 ,\n",
              "       0.56116176, 0.56142992])"
            ]
          },
          "metadata": {
            "tags": []
          }
        },
        {
          "output_type": "display_data",
          "data": {
            "text/plain": [
              "array([0.55855995, 0.55886662, 0.5591687 , 0.5594663 , 0.5597595 ,\n",
              "       0.56004834, 0.56033301, 0.56061339, 0.5608896 , 0.56116176,\n",
              "       0.56142992, 0.56169403])"
            ]
          },
          "metadata": {
            "tags": []
          }
        },
        {
          "output_type": "display_data",
          "data": {
            "text/plain": [
              "array([0.55886662, 0.5591687 , 0.5594663 , 0.5597595 , 0.56004834,\n",
              "       0.56033301, 0.56061339, 0.5608896 , 0.56116176, 0.56142992,\n",
              "       0.56169403, 0.56195438])"
            ]
          },
          "metadata": {
            "tags": []
          }
        },
        {
          "output_type": "display_data",
          "data": {
            "text/plain": [
              "array([0.5591687 , 0.5594663 , 0.5597595 , 0.56004834, 0.56033301,\n",
              "       0.56061339, 0.5608896 , 0.56116176, 0.56142992, 0.56169403,\n",
              "       0.56195438, 0.5622108 ])"
            ]
          },
          "metadata": {
            "tags": []
          }
        },
        {
          "output_type": "display_data",
          "data": {
            "text/plain": [
              "array([0.5594663 , 0.5597595 , 0.56004834, 0.56033301, 0.56061339,\n",
              "       0.5608896 , 0.56116176, 0.56142992, 0.56169403, 0.56195438,\n",
              "       0.5622108 , 0.5624634 ])"
            ]
          },
          "metadata": {
            "tags": []
          }
        },
        {
          "output_type": "display_data",
          "data": {
            "text/plain": [
              "array([0.5597595 , 0.56004834, 0.56033301, 0.56061339, 0.5608896 ,\n",
              "       0.56116176, 0.56142992, 0.56169403, 0.56195438, 0.5622108 ,\n",
              "       0.5624634 , 0.56271243])"
            ]
          },
          "metadata": {
            "tags": []
          }
        },
        {
          "output_type": "display_data",
          "data": {
            "text/plain": [
              "array([0.56004834, 0.56033301, 0.56061339, 0.5608896 , 0.56116176,\n",
              "       0.56142992, 0.56169403, 0.56195438, 0.5622108 , 0.5624634 ,\n",
              "       0.56271243, 0.56295764])"
            ]
          },
          "metadata": {
            "tags": []
          }
        },
        {
          "output_type": "display_data",
          "data": {
            "text/plain": [
              "array([0.56033301, 0.56061339, 0.5608896 , 0.56116176, 0.56142992,\n",
              "       0.56169403, 0.56195438, 0.5622108 , 0.5624634 , 0.56271243,\n",
              "       0.56295764, 0.56319928])"
            ]
          },
          "metadata": {
            "tags": []
          }
        },
        {
          "output_type": "display_data",
          "data": {
            "text/plain": [
              "array([0.56061339, 0.5608896 , 0.56116176, 0.56142992, 0.56169403,\n",
              "       0.56195438, 0.5622108 , 0.5624634 , 0.56271243, 0.56295764,\n",
              "       0.56319928, 0.56343734])"
            ]
          },
          "metadata": {
            "tags": []
          }
        },
        {
          "output_type": "display_data",
          "data": {
            "text/plain": [
              "array([0.5608896 , 0.56116176, 0.56142992, 0.56169403, 0.56195438,\n",
              "       0.5622108 , 0.5624634 , 0.56271243, 0.56295764, 0.56319928,\n",
              "       0.56343734, 0.56367195])"
            ]
          },
          "metadata": {
            "tags": []
          }
        },
        {
          "output_type": "display_data",
          "data": {
            "text/plain": [
              "array([0.56116176, 0.56142992, 0.56169403, 0.56195438, 0.5622108 ,\n",
              "       0.5624634 , 0.56271243, 0.56295764, 0.56319928, 0.56343734,\n",
              "       0.56367195, 0.56390297])"
            ]
          },
          "metadata": {
            "tags": []
          }
        },
        {
          "output_type": "display_data",
          "data": {
            "text/plain": [
              "array([0.56142992, 0.56169403, 0.56195438, 0.5622108 , 0.5624634 ,\n",
              "       0.56271243, 0.56295764, 0.56319928, 0.56343734, 0.56367195,\n",
              "       0.56390297, 0.56413072])"
            ]
          },
          "metadata": {
            "tags": []
          }
        },
        {
          "output_type": "display_data",
          "data": {
            "text/plain": [
              "array([0.56169403, 0.56195438, 0.5622108 , 0.5624634 , 0.56271243,\n",
              "       0.56295764, 0.56319928, 0.56343734, 0.56367195, 0.56390297,\n",
              "       0.56413072, 0.56435502])"
            ]
          },
          "metadata": {
            "tags": []
          }
        },
        {
          "output_type": "display_data",
          "data": {
            "text/plain": [
              "array([0.56195438, 0.5622108 , 0.5624634 , 0.56271243, 0.56295764,\n",
              "       0.56319928, 0.56343734, 0.56367195, 0.56390297, 0.56413072,\n",
              "       0.56435502, 0.56457615])"
            ]
          },
          "metadata": {
            "tags": []
          }
        },
        {
          "output_type": "display_data",
          "data": {
            "text/plain": [
              "array([0.5622108 , 0.5624634 , 0.56271243, 0.56295764, 0.56319928,\n",
              "       0.56343734, 0.56367195, 0.56390297, 0.56413072, 0.56435502,\n",
              "       0.56457615, 0.56479394])"
            ]
          },
          "metadata": {
            "tags": []
          }
        },
        {
          "output_type": "display_data",
          "data": {
            "text/plain": [
              "array([0.5624634 , 0.56271243, 0.56295764, 0.56319928, 0.56343734,\n",
              "       0.56367195, 0.56390297, 0.56413072, 0.56435502, 0.56457615,\n",
              "       0.56479394, 0.56500852])"
            ]
          },
          "metadata": {
            "tags": []
          }
        },
        {
          "output_type": "display_data",
          "data": {
            "text/plain": [
              "array([0.56271243, 0.56295764, 0.56319928, 0.56343734, 0.56367195,\n",
              "       0.56390297, 0.56413072, 0.56435502, 0.56457615, 0.56479394,\n",
              "       0.56500852, 0.56522   ])"
            ]
          },
          "metadata": {
            "tags": []
          }
        },
        {
          "output_type": "display_data",
          "data": {
            "text/plain": [
              "array([0.56295764, 0.56319928, 0.56343734, 0.56367195, 0.56390297,\n",
              "       0.56413072, 0.56435502, 0.56457615, 0.56479394, 0.56500852,\n",
              "       0.56522   , 0.56542838])"
            ]
          },
          "metadata": {
            "tags": []
          }
        },
        {
          "output_type": "display_data",
          "data": {
            "text/plain": [
              "array([0.56319928, 0.56343734, 0.56367195, 0.56390297, 0.56413072,\n",
              "       0.56435502, 0.56457615, 0.56479394, 0.56500852, 0.56522   ,\n",
              "       0.56542838, 0.56563354])"
            ]
          },
          "metadata": {
            "tags": []
          }
        },
        {
          "output_type": "display_data",
          "data": {
            "text/plain": [
              "array([0.56343734, 0.56367195, 0.56390297, 0.56413072, 0.56435502,\n",
              "       0.56457615, 0.56479394, 0.56500852, 0.56522   , 0.56542838,\n",
              "       0.56563354, 0.56583583])"
            ]
          },
          "metadata": {
            "tags": []
          }
        },
        {
          "output_type": "display_data",
          "data": {
            "text/plain": [
              "array([0.56367195, 0.56390297, 0.56413072, 0.56435502, 0.56457615,\n",
              "       0.56479394, 0.56500852, 0.56522   , 0.56542838, 0.56563354,\n",
              "       0.56583583, 0.56603515])"
            ]
          },
          "metadata": {
            "tags": []
          }
        },
        {
          "output_type": "display_data",
          "data": {
            "text/plain": [
              "array([0.56390297, 0.56413072, 0.56435502, 0.56457615, 0.56479394,\n",
              "       0.56500852, 0.56522   , 0.56542838, 0.56563354, 0.56583583,\n",
              "       0.56603515, 0.56623143])"
            ]
          },
          "metadata": {
            "tags": []
          }
        },
        {
          "output_type": "display_data",
          "data": {
            "text/plain": [
              "array([0.56413072, 0.56435502, 0.56457615, 0.56479394, 0.56500852,\n",
              "       0.56522   , 0.56542838, 0.56563354, 0.56583583, 0.56603515,\n",
              "       0.56623143, 0.56642497])"
            ]
          },
          "metadata": {
            "tags": []
          }
        },
        {
          "output_type": "display_data",
          "data": {
            "text/plain": [
              "array([0.56435502, 0.56457615, 0.56479394, 0.56500852, 0.56522   ,\n",
              "       0.56542838, 0.56563354, 0.56583583, 0.56603515, 0.56623143,\n",
              "       0.56642497, 0.56661552])"
            ]
          },
          "metadata": {
            "tags": []
          }
        },
        {
          "output_type": "display_data",
          "data": {
            "text/plain": [
              "array([0.56457615, 0.56479394, 0.56500852, 0.56522   , 0.56542838,\n",
              "       0.56563354, 0.56583583, 0.56603515, 0.56623143, 0.56642497,\n",
              "       0.56661552, 0.56680334])"
            ]
          },
          "metadata": {
            "tags": []
          }
        },
        {
          "output_type": "display_data",
          "data": {
            "text/plain": [
              "array([0.56479394, 0.56500852, 0.56522   , 0.56542838, 0.56563354,\n",
              "       0.56583583, 0.56603515, 0.56623143, 0.56642497, 0.56661552,\n",
              "       0.56680334, 0.56698841])"
            ]
          },
          "metadata": {
            "tags": []
          }
        },
        {
          "output_type": "display_data",
          "data": {
            "text/plain": [
              "array([0.56500852, 0.56522   , 0.56542838, 0.56563354, 0.56583583,\n",
              "       0.56603515, 0.56623143, 0.56642497, 0.56661552, 0.56680334,\n",
              "       0.56698841, 0.5671708 ])"
            ]
          },
          "metadata": {
            "tags": []
          }
        },
        {
          "output_type": "display_data",
          "data": {
            "text/plain": [
              "array([0.56522   , 0.56542838, 0.56563354, 0.56583583, 0.56603515,\n",
              "       0.56623143, 0.56642497, 0.56661552, 0.56680334, 0.56698841,\n",
              "       0.5671708 , 0.56735045])"
            ]
          },
          "metadata": {
            "tags": []
          }
        },
        {
          "output_type": "display_data",
          "data": {
            "text/plain": [
              "array([0.56542838, 0.56563354, 0.56583583, 0.56603515, 0.56623143,\n",
              "       0.56642497, 0.56661552, 0.56680334, 0.56698841, 0.5671708 ,\n",
              "       0.56735045, 0.56752741])"
            ]
          },
          "metadata": {
            "tags": []
          }
        },
        {
          "output_type": "display_data",
          "data": {
            "text/plain": [
              "array([0.56563354, 0.56583583, 0.56603515, 0.56623143, 0.56642497,\n",
              "       0.56661552, 0.56680334, 0.56698841, 0.5671708 , 0.56735045,\n",
              "       0.56752741, 0.56770194])"
            ]
          },
          "metadata": {
            "tags": []
          }
        },
        {
          "output_type": "display_data",
          "data": {
            "text/plain": [
              "array([0.56583583, 0.56603515, 0.56623143, 0.56642497, 0.56661552,\n",
              "       0.56680334, 0.56698841, 0.5671708 , 0.56735045, 0.56752741,\n",
              "       0.56770194, 0.56787384])"
            ]
          },
          "metadata": {
            "tags": []
          }
        },
        {
          "output_type": "display_data",
          "data": {
            "text/plain": [
              "array([0.56603515, 0.56623143, 0.56642497, 0.56661552, 0.56680334,\n",
              "       0.56698841, 0.5671708 , 0.56735045, 0.56752741, 0.56770194,\n",
              "       0.56787384, 0.56804317])"
            ]
          },
          "metadata": {
            "tags": []
          }
        },
        {
          "output_type": "display_data",
          "data": {
            "text/plain": [
              "array([0.56623143, 0.56642497, 0.56661552, 0.56680334, 0.56698841,\n",
              "       0.5671708 , 0.56735045, 0.56752741, 0.56770194, 0.56787384,\n",
              "       0.56804317, 0.56821012])"
            ]
          },
          "metadata": {
            "tags": []
          }
        },
        {
          "output_type": "display_data",
          "data": {
            "text/plain": [
              "array([0.56642497, 0.56661552, 0.56680334, 0.56698841, 0.5671708 ,\n",
              "       0.56735045, 0.56752741, 0.56770194, 0.56787384, 0.56804317,\n",
              "       0.56821012, 0.56837451])"
            ]
          },
          "metadata": {
            "tags": []
          }
        },
        {
          "output_type": "display_data",
          "data": {
            "text/plain": [
              "array([0.56661552, 0.56680334, 0.56698841, 0.5671708 , 0.56735045,\n",
              "       0.56752741, 0.56770194, 0.56787384, 0.56804317, 0.56821012,\n",
              "       0.56837451, 0.56853652])"
            ]
          },
          "metadata": {
            "tags": []
          }
        },
        {
          "output_type": "display_data",
          "data": {
            "text/plain": [
              "array([0.56680334, 0.56698841, 0.5671708 , 0.56735045, 0.56752741,\n",
              "       0.56770194, 0.56787384, 0.56804317, 0.56821012, 0.56837451,\n",
              "       0.56853652, 0.56869626])"
            ]
          },
          "metadata": {
            "tags": []
          }
        },
        {
          "output_type": "display_data",
          "data": {
            "text/plain": [
              "array([0.56698841, 0.5671708 , 0.56735045, 0.56752741, 0.56770194,\n",
              "       0.56787384, 0.56804317, 0.56821012, 0.56837451, 0.56853652,\n",
              "       0.56869626, 0.5688535 ])"
            ]
          },
          "metadata": {
            "tags": []
          }
        },
        {
          "output_type": "display_data",
          "data": {
            "text/plain": [
              "array([0.5671708 , 0.56735045, 0.56752741, 0.56770194, 0.56787384,\n",
              "       0.56804317, 0.56821012, 0.56837451, 0.56853652, 0.56869626,\n",
              "       0.5688535 , 0.56900859])"
            ]
          },
          "metadata": {
            "tags": []
          }
        },
        {
          "output_type": "display_data",
          "data": {
            "text/plain": [
              "array([0.56735045, 0.56752741, 0.56770194, 0.56787384, 0.56804317,\n",
              "       0.56821012, 0.56837451, 0.56853652, 0.56869626, 0.5688535 ,\n",
              "       0.56900859, 0.5691613 ])"
            ]
          },
          "metadata": {
            "tags": []
          }
        },
        {
          "output_type": "display_data",
          "data": {
            "text/plain": [
              "array([0.56752741, 0.56770194, 0.56787384, 0.56804317, 0.56821012,\n",
              "       0.56837451, 0.56853652, 0.56869626, 0.5688535 , 0.56900859,\n",
              "       0.5691613 , 0.56931186])"
            ]
          },
          "metadata": {
            "tags": []
          }
        },
        {
          "output_type": "display_data",
          "data": {
            "text/plain": [
              "array([0.56770194, 0.56787384, 0.56804317, 0.56821012, 0.56837451,\n",
              "       0.56853652, 0.56869626, 0.5688535 , 0.56900859, 0.5691613 ,\n",
              "       0.56931186, 0.56946015])"
            ]
          },
          "metadata": {
            "tags": []
          }
        },
        {
          "output_type": "display_data",
          "data": {
            "text/plain": [
              "array([0.56787384, 0.56804317, 0.56821012, 0.56837451, 0.56853652,\n",
              "       0.56869626, 0.5688535 , 0.56900859, 0.5691613 , 0.56931186,\n",
              "       0.56946015, 0.56960624])"
            ]
          },
          "metadata": {
            "tags": []
          }
        },
        {
          "output_type": "display_data",
          "data": {
            "text/plain": [
              "array([0.56804317, 0.56821012, 0.56837451, 0.56853652, 0.56869626,\n",
              "       0.5688535 , 0.56900859, 0.5691613 , 0.56931186, 0.56946015,\n",
              "       0.56960624, 0.56975019])"
            ]
          },
          "metadata": {
            "tags": []
          }
        },
        {
          "output_type": "display_data",
          "data": {
            "text/plain": [
              "array([0.56821012, 0.56837451, 0.56853652, 0.56869626, 0.5688535 ,\n",
              "       0.56900859, 0.5691613 , 0.56931186, 0.56946015, 0.56960624,\n",
              "       0.56975019, 0.56989217])"
            ]
          },
          "metadata": {
            "tags": []
          }
        },
        {
          "output_type": "display_data",
          "data": {
            "text/plain": [
              "array([0.56837451, 0.56853652, 0.56869626, 0.5688535 , 0.56900859,\n",
              "       0.5691613 , 0.56931186, 0.56946015, 0.56960624, 0.56975019,\n",
              "       0.56989217, 0.570032  ])"
            ]
          },
          "metadata": {
            "tags": []
          }
        },
        {
          "output_type": "display_data",
          "data": {
            "text/plain": [
              "array([0.56853652, 0.56869626, 0.5688535 , 0.56900859, 0.5691613 ,\n",
              "       0.56931186, 0.56946015, 0.56960624, 0.56975019, 0.56989217,\n",
              "       0.570032  , 0.57016969])"
            ]
          },
          "metadata": {
            "tags": []
          }
        },
        {
          "output_type": "display_data",
          "data": {
            "text/plain": [
              "array([0.56869626, 0.5688535 , 0.56900859, 0.5691613 , 0.56931186,\n",
              "       0.56946015, 0.56960624, 0.56975019, 0.56989217, 0.570032  ,\n",
              "       0.57016969, 0.57030547])"
            ]
          },
          "metadata": {
            "tags": []
          }
        },
        {
          "output_type": "display_data",
          "data": {
            "text/plain": [
              "array([0.5688535 , 0.56900859, 0.5691613 , 0.56931186, 0.56946015,\n",
              "       0.56960624, 0.56975019, 0.56989217, 0.570032  , 0.57016969,\n",
              "       0.57030547, 0.57043934])"
            ]
          },
          "metadata": {
            "tags": []
          }
        },
        {
          "output_type": "display_data",
          "data": {
            "text/plain": [
              "array([0.56900859, 0.5691613 , 0.56931186, 0.56946015, 0.56960624,\n",
              "       0.56975019, 0.56989217, 0.570032  , 0.57016969, 0.57030547,\n",
              "       0.57043934, 0.57057106])"
            ]
          },
          "metadata": {
            "tags": []
          }
        },
        {
          "output_type": "display_data",
          "data": {
            "text/plain": [
              "array([0.5691613 , 0.56931186, 0.56946015, 0.56960624, 0.56975019,\n",
              "       0.56989217, 0.570032  , 0.57016969, 0.57030547, 0.57043934,\n",
              "       0.57057106, 0.570701  ])"
            ]
          },
          "metadata": {
            "tags": []
          }
        },
        {
          "output_type": "display_data",
          "data": {
            "text/plain": [
              "array([0.56931186, 0.56946015, 0.56960624, 0.56975019, 0.56989217,\n",
              "       0.570032  , 0.57016969, 0.57030547, 0.57043934, 0.57057106,\n",
              "       0.570701  , 0.57082903])"
            ]
          },
          "metadata": {
            "tags": []
          }
        },
        {
          "output_type": "display_data",
          "data": {
            "text/plain": [
              "array([0.56946015, 0.56960624, 0.56975019, 0.56989217, 0.570032  ,\n",
              "       0.57016969, 0.57030547, 0.57043934, 0.57057106, 0.570701  ,\n",
              "       0.57082903, 0.57095516])"
            ]
          },
          "metadata": {
            "tags": []
          }
        },
        {
          "output_type": "display_data",
          "data": {
            "text/plain": [
              "array([0.56960624, 0.56975019, 0.56989217, 0.570032  , 0.57016969,\n",
              "       0.57030547, 0.57043934, 0.57057106, 0.570701  , 0.57082903,\n",
              "       0.57095516, 0.57107937])"
            ]
          },
          "metadata": {
            "tags": []
          }
        },
        {
          "output_type": "display_data",
          "data": {
            "text/plain": [
              "array([0.56975019, 0.56989217, 0.570032  , 0.57016969, 0.57030547,\n",
              "       0.57043934, 0.57057106, 0.570701  , 0.57082903, 0.57095516,\n",
              "       0.57107937, 0.57120186])"
            ]
          },
          "metadata": {
            "tags": []
          }
        },
        {
          "output_type": "display_data",
          "data": {
            "text/plain": [
              "array([0.56989217, 0.570032  , 0.57016969, 0.57030547, 0.57043934,\n",
              "       0.57057106, 0.570701  , 0.57082903, 0.57095516, 0.57107937,\n",
              "       0.57120186, 0.57132256])"
            ]
          },
          "metadata": {
            "tags": []
          }
        },
        {
          "output_type": "display_data",
          "data": {
            "text/plain": [
              "array([0.570032  , 0.57016969, 0.57030547, 0.57043934, 0.57057106,\n",
              "       0.570701  , 0.57082903, 0.57095516, 0.57107937, 0.57120186,\n",
              "       0.57132256, 0.57144153])"
            ]
          },
          "metadata": {
            "tags": []
          }
        },
        {
          "output_type": "display_data",
          "data": {
            "text/plain": [
              "array([0.57016969, 0.57030547, 0.57043934, 0.57057106, 0.570701  ,\n",
              "       0.57082903, 0.57095516, 0.57107937, 0.57120186, 0.57132256,\n",
              "       0.57144153, 0.57155871])"
            ]
          },
          "metadata": {
            "tags": []
          }
        },
        {
          "output_type": "display_data",
          "data": {
            "text/plain": [
              "array([0.57030547, 0.57043934, 0.57057106, 0.570701  , 0.57082903,\n",
              "       0.57095516, 0.57107937, 0.57120186, 0.57132256, 0.57144153,\n",
              "       0.57155871, 0.57167417])"
            ]
          },
          "metadata": {
            "tags": []
          }
        },
        {
          "output_type": "display_data",
          "data": {
            "text/plain": [
              "array([0.57043934, 0.57057106, 0.570701  , 0.57082903, 0.57095516,\n",
              "       0.57107937, 0.57120186, 0.57132256, 0.57144153, 0.57155871,\n",
              "       0.57167417, 0.57178795])"
            ]
          },
          "metadata": {
            "tags": []
          }
        },
        {
          "output_type": "display_data",
          "data": {
            "text/plain": [
              "array([0.57057106, 0.570701  , 0.57082903, 0.57095516, 0.57107937,\n",
              "       0.57120186, 0.57132256, 0.57144153, 0.57155871, 0.57167417,\n",
              "       0.57178795, 0.57190007])"
            ]
          },
          "metadata": {
            "tags": []
          }
        },
        {
          "output_type": "display_data",
          "data": {
            "text/plain": [
              "array([0.570701  , 0.57082903, 0.57095516, 0.57107937, 0.57120186,\n",
              "       0.57132256, 0.57144153, 0.57155871, 0.57167417, 0.57178795,\n",
              "       0.57190007, 0.57201052])"
            ]
          },
          "metadata": {
            "tags": []
          }
        },
        {
          "output_type": "display_data",
          "data": {
            "text/plain": [
              "array([0.57082903, 0.57095516, 0.57107937, 0.57120186, 0.57132256,\n",
              "       0.57144153, 0.57155871, 0.57167417, 0.57178795, 0.57190007,\n",
              "       0.57201052, 0.57211941])"
            ]
          },
          "metadata": {
            "tags": []
          }
        },
        {
          "output_type": "display_data",
          "data": {
            "text/plain": [
              "array([0.57095516, 0.57107937, 0.57120186, 0.57132256, 0.57144153,\n",
              "       0.57155871, 0.57167417, 0.57178795, 0.57190007, 0.57201052,\n",
              "       0.57211941, 0.57222664])"
            ]
          },
          "metadata": {
            "tags": []
          }
        },
        {
          "output_type": "display_data",
          "data": {
            "text/plain": [
              "array([0.57107937, 0.57120186, 0.57132256, 0.57144153, 0.57155871,\n",
              "       0.57167417, 0.57178795, 0.57190007, 0.57201052, 0.57211941,\n",
              "       0.57222664, 0.57233238])"
            ]
          },
          "metadata": {
            "tags": []
          }
        },
        {
          "output_type": "display_data",
          "data": {
            "text/plain": [
              "array([0.57120186, 0.57132256, 0.57144153, 0.57155871, 0.57167417,\n",
              "       0.57178795, 0.57190007, 0.57201052, 0.57211941, 0.57222664,\n",
              "       0.57233238, 0.57243657])"
            ]
          },
          "metadata": {
            "tags": []
          }
        },
        {
          "output_type": "display_data",
          "data": {
            "text/plain": [
              "array([0.57132256, 0.57144153, 0.57155871, 0.57167417, 0.57178795,\n",
              "       0.57190007, 0.57201052, 0.57211941, 0.57222664, 0.57233238,\n",
              "       0.57243657, 0.57253921])"
            ]
          },
          "metadata": {
            "tags": []
          }
        },
        {
          "output_type": "display_data",
          "data": {
            "text/plain": [
              "array([0.57144153, 0.57155871, 0.57167417, 0.57178795, 0.57190007,\n",
              "       0.57201052, 0.57211941, 0.57222664, 0.57233238, 0.57243657,\n",
              "       0.57253921, 0.57264042])"
            ]
          },
          "metadata": {
            "tags": []
          }
        },
        {
          "output_type": "display_data",
          "data": {
            "text/plain": [
              "array([0.57155871, 0.57167417, 0.57178795, 0.57190007, 0.57201052,\n",
              "       0.57211941, 0.57222664, 0.57233238, 0.57243657, 0.57253921,\n",
              "       0.57264042, 0.57274008])"
            ]
          },
          "metadata": {
            "tags": []
          }
        },
        {
          "output_type": "display_data",
          "data": {
            "text/plain": [
              "array([0.57167417, 0.57178795, 0.57190007, 0.57201052, 0.57211941,\n",
              "       0.57222664, 0.57233238, 0.57243657, 0.57253921, 0.57264042,\n",
              "       0.57274008, 0.57283831])"
            ]
          },
          "metadata": {
            "tags": []
          }
        },
        {
          "output_type": "display_data",
          "data": {
            "text/plain": [
              "array([0.57178795, 0.57190007, 0.57201052, 0.57211941, 0.57222664,\n",
              "       0.57233238, 0.57243657, 0.57253921, 0.57264042, 0.57274008,\n",
              "       0.57283831, 0.5729351 ])"
            ]
          },
          "metadata": {
            "tags": []
          }
        },
        {
          "output_type": "display_data",
          "data": {
            "text/plain": [
              "array([0.57190007, 0.57201052, 0.57211941, 0.57222664, 0.57233238,\n",
              "       0.57243657, 0.57253921, 0.57264042, 0.57274008, 0.57283831,\n",
              "       0.5729351 , 0.57303047])"
            ]
          },
          "metadata": {
            "tags": []
          }
        },
        {
          "output_type": "display_data",
          "data": {
            "text/plain": [
              "array([0.57201052, 0.57211941, 0.57222664, 0.57233238, 0.57243657,\n",
              "       0.57253921, 0.57264042, 0.57274008, 0.57283831, 0.5729351 ,\n",
              "       0.57303047, 0.57312453])"
            ]
          },
          "metadata": {
            "tags": []
          }
        },
        {
          "output_type": "display_data",
          "data": {
            "text/plain": [
              "array([0.57211941, 0.57222664, 0.57233238, 0.57243657, 0.57253921,\n",
              "       0.57264042, 0.57274008, 0.57283831, 0.5729351 , 0.57303047,\n",
              "       0.57312453, 0.57321715])"
            ]
          },
          "metadata": {
            "tags": []
          }
        },
        {
          "output_type": "display_data",
          "data": {
            "text/plain": [
              "array([0.57222664, 0.57233238, 0.57243657, 0.57253921, 0.57264042,\n",
              "       0.57274008, 0.57283831, 0.5729351 , 0.57303047, 0.57312453,\n",
              "       0.57321715, 0.57330847])"
            ]
          },
          "metadata": {
            "tags": []
          }
        },
        {
          "output_type": "display_data",
          "data": {
            "text/plain": [
              "array([0.57233238, 0.57243657, 0.57253921, 0.57264042, 0.57274008,\n",
              "       0.57283831, 0.5729351 , 0.57303047, 0.57312453, 0.57321715,\n",
              "       0.57330847, 0.57339835])"
            ]
          },
          "metadata": {
            "tags": []
          }
        },
        {
          "output_type": "display_data",
          "data": {
            "text/plain": [
              "array([0.57243657, 0.57253921, 0.57264042, 0.57274008, 0.57283831,\n",
              "       0.5729351 , 0.57303047, 0.57312453, 0.57321715, 0.57330847,\n",
              "       0.57339835, 0.57348704])"
            ]
          },
          "metadata": {
            "tags": []
          }
        },
        {
          "output_type": "display_data",
          "data": {
            "text/plain": [
              "array([0.57253921, 0.57264042, 0.57274008, 0.57283831, 0.5729351 ,\n",
              "       0.57303047, 0.57312453, 0.57321715, 0.57330847, 0.57339835,\n",
              "       0.57348704, 0.57357436])"
            ]
          },
          "metadata": {
            "tags": []
          }
        },
        {
          "output_type": "display_data",
          "data": {
            "text/plain": [
              "array([0.57264042, 0.57274008, 0.57283831, 0.5729351 , 0.57303047,\n",
              "       0.57312453, 0.57321715, 0.57330847, 0.57339835, 0.57348704,\n",
              "       0.57357436, 0.57366049])"
            ]
          },
          "metadata": {
            "tags": []
          }
        },
        {
          "output_type": "display_data",
          "data": {
            "text/plain": [
              "array([0.57274008, 0.57283831, 0.5729351 , 0.57303047, 0.57312453,\n",
              "       0.57321715, 0.57330847, 0.57339835, 0.57348704, 0.57357436,\n",
              "       0.57366049, 0.57374525])"
            ]
          },
          "metadata": {
            "tags": []
          }
        },
        {
          "output_type": "display_data",
          "data": {
            "text/plain": [
              "array([0.57283831, 0.5729351 , 0.57303047, 0.57312453, 0.57321715,\n",
              "       0.57330847, 0.57339835, 0.57348704, 0.57357436, 0.57366049,\n",
              "       0.57374525, 0.57382894])"
            ]
          },
          "metadata": {
            "tags": []
          }
        },
        {
          "output_type": "display_data",
          "data": {
            "text/plain": [
              "array([0.5729351 , 0.57303047, 0.57312453, 0.57321715, 0.57330847,\n",
              "       0.57339835, 0.57348704, 0.57357436, 0.57366049, 0.57374525,\n",
              "       0.57382894, 0.57391131])"
            ]
          },
          "metadata": {
            "tags": []
          }
        },
        {
          "output_type": "display_data",
          "data": {
            "text/plain": [
              "array([0.57303047, 0.57312453, 0.57321715, 0.57330847, 0.57339835,\n",
              "       0.57348704, 0.57357436, 0.57366049, 0.57374525, 0.57382894,\n",
              "       0.57391131, 0.57399249])"
            ]
          },
          "metadata": {
            "tags": []
          }
        },
        {
          "output_type": "display_data",
          "data": {
            "text/plain": [
              "array([0.57312453, 0.57321715, 0.57330847, 0.57339835, 0.57348704,\n",
              "       0.57357436, 0.57366049, 0.57374525, 0.57382894, 0.57391131,\n",
              "       0.57399249, 0.57407242])"
            ]
          },
          "metadata": {
            "tags": []
          }
        },
        {
          "output_type": "display_data",
          "data": {
            "text/plain": [
              "array([0.57321715, 0.57330847, 0.57339835, 0.57348704, 0.57357436,\n",
              "       0.57366049, 0.57374525, 0.57382894, 0.57391131, 0.57399249,\n",
              "       0.57407242, 0.57415128])"
            ]
          },
          "metadata": {
            "tags": []
          }
        },
        {
          "output_type": "display_data",
          "data": {
            "text/plain": [
              "array([0.57330847, 0.57339835, 0.57348704, 0.57357436, 0.57366049,\n",
              "       0.57374525, 0.57382894, 0.57391131, 0.57399249, 0.57407242,\n",
              "       0.57415128, 0.574229  ])"
            ]
          },
          "metadata": {
            "tags": []
          }
        },
        {
          "output_type": "display_data",
          "data": {
            "text/plain": [
              "array([0.57339835, 0.57348704, 0.57357436, 0.57366049, 0.57374525,\n",
              "       0.57382894, 0.57391131, 0.57399249, 0.57407242, 0.57415128,\n",
              "       0.574229  , 0.57430553])"
            ]
          },
          "metadata": {
            "tags": []
          }
        },
        {
          "output_type": "display_data",
          "data": {
            "text/plain": [
              "array([0.57348704, 0.57357436, 0.57366049, 0.57374525, 0.57382894,\n",
              "       0.57391131, 0.57399249, 0.57407242, 0.57415128, 0.574229  ,\n",
              "       0.57430553, 0.57438099])"
            ]
          },
          "metadata": {
            "tags": []
          }
        },
        {
          "output_type": "display_data",
          "data": {
            "text/plain": [
              "array([0.57357436, 0.57366049, 0.57374525, 0.57382894, 0.57391131,\n",
              "       0.57399249, 0.57407242, 0.57415128, 0.574229  , 0.57430553,\n",
              "       0.57438099, 0.57445526])"
            ]
          },
          "metadata": {
            "tags": []
          }
        },
        {
          "output_type": "display_data",
          "data": {
            "text/plain": [
              "array([0.57366049, 0.57374525, 0.57382894, 0.57391131, 0.57399249,\n",
              "       0.57407242, 0.57415128, 0.574229  , 0.57430553, 0.57438099,\n",
              "       0.57445526, 0.57452857])"
            ]
          },
          "metadata": {
            "tags": []
          }
        },
        {
          "output_type": "display_data",
          "data": {
            "text/plain": [
              "array([0.57374525, 0.57382894, 0.57391131, 0.57399249, 0.57407242,\n",
              "       0.57415128, 0.574229  , 0.57430553, 0.57438099, 0.57445526,\n",
              "       0.57452857, 0.57460076])"
            ]
          },
          "metadata": {
            "tags": []
          }
        },
        {
          "output_type": "display_data",
          "data": {
            "text/plain": [
              "array([0.57382894, 0.57391131, 0.57399249, 0.57407242, 0.57415128,\n",
              "       0.574229  , 0.57430553, 0.57438099, 0.57445526, 0.57452857,\n",
              "       0.57460076, 0.57467186])"
            ]
          },
          "metadata": {
            "tags": []
          }
        },
        {
          "output_type": "display_data",
          "data": {
            "text/plain": [
              "array([0.57391131, 0.57399249, 0.57407242, 0.57415128, 0.574229  ,\n",
              "       0.57430553, 0.57438099, 0.57445526, 0.57452857, 0.57460076,\n",
              "       0.57467186, 0.57474202])"
            ]
          },
          "metadata": {
            "tags": []
          }
        },
        {
          "output_type": "display_data",
          "data": {
            "text/plain": [
              "array([0.57399249, 0.57407242, 0.57415128, 0.574229  , 0.57430553,\n",
              "       0.57438099, 0.57445526, 0.57452857, 0.57460076, 0.57467186,\n",
              "       0.57474202, 0.5748111 ])"
            ]
          },
          "metadata": {
            "tags": []
          }
        },
        {
          "output_type": "display_data",
          "data": {
            "text/plain": [
              "array([0.57407242, 0.57415128, 0.574229  , 0.57430553, 0.57438099,\n",
              "       0.57445526, 0.57452857, 0.57460076, 0.57467186, 0.57474202,\n",
              "       0.5748111 , 0.57487917])"
            ]
          },
          "metadata": {
            "tags": []
          }
        },
        {
          "output_type": "display_data",
          "data": {
            "text/plain": [
              "array([0.57415128, 0.574229  , 0.57430553, 0.57438099, 0.57445526,\n",
              "       0.57452857, 0.57460076, 0.57467186, 0.57474202, 0.5748111 ,\n",
              "       0.57487917, 0.57494622])"
            ]
          },
          "metadata": {
            "tags": []
          }
        },
        {
          "output_type": "display_data",
          "data": {
            "text/plain": [
              "array([0.574229  , 0.57430553, 0.57438099, 0.57445526, 0.57452857,\n",
              "       0.57460076, 0.57467186, 0.57474202, 0.5748111 , 0.57487917,\n",
              "       0.57494622, 0.57501233])"
            ]
          },
          "metadata": {
            "tags": []
          }
        },
        {
          "output_type": "display_data",
          "data": {
            "text/plain": [
              "array([0.57430553, 0.57438099, 0.57445526, 0.57452857, 0.57460076,\n",
              "       0.57467186, 0.57474202, 0.5748111 , 0.57487917, 0.57494622,\n",
              "       0.57501233, 0.57507753])"
            ]
          },
          "metadata": {
            "tags": []
          }
        },
        {
          "output_type": "display_data",
          "data": {
            "text/plain": [
              "array([0.57438099, 0.57445526, 0.57452857, 0.57460076, 0.57467186,\n",
              "       0.57474202, 0.5748111 , 0.57487917, 0.57494622, 0.57501233,\n",
              "       0.57507753, 0.57514167])"
            ]
          },
          "metadata": {
            "tags": []
          }
        },
        {
          "output_type": "display_data",
          "data": {
            "text/plain": [
              "array([0.57445526, 0.57452857, 0.57460076, 0.57467186, 0.57474202,\n",
              "       0.5748111 , 0.57487917, 0.57494622, 0.57501233, 0.57507753,\n",
              "       0.57514167, 0.57520497])"
            ]
          },
          "metadata": {
            "tags": []
          }
        },
        {
          "output_type": "display_data",
          "data": {
            "text/plain": [
              "array([0.57452857, 0.57460076, 0.57467186, 0.57474202, 0.5748111 ,\n",
              "       0.57487917, 0.57494622, 0.57501233, 0.57507753, 0.57514167,\n",
              "       0.57520497, 0.57526731])"
            ]
          },
          "metadata": {
            "tags": []
          }
        },
        {
          "output_type": "display_data",
          "data": {
            "text/plain": [
              "array([0.57460076, 0.57467186, 0.57474202, 0.5748111 , 0.57487917,\n",
              "       0.57494622, 0.57501233, 0.57507753, 0.57514167, 0.57520497,\n",
              "       0.57526731, 0.57532871])"
            ]
          },
          "metadata": {
            "tags": []
          }
        },
        {
          "output_type": "display_data",
          "data": {
            "text/plain": [
              "array([0.57467186, 0.57474202, 0.5748111 , 0.57487917, 0.57494622,\n",
              "       0.57501233, 0.57507753, 0.57514167, 0.57520497, 0.57526731,\n",
              "       0.57532871, 0.57538933])"
            ]
          },
          "metadata": {
            "tags": []
          }
        },
        {
          "output_type": "display_data",
          "data": {
            "text/plain": [
              "array([0.57474202, 0.5748111 , 0.57487917, 0.57494622, 0.57501233,\n",
              "       0.57507753, 0.57514167, 0.57520497, 0.57526731, 0.57532871,\n",
              "       0.57538933, 0.57544899])"
            ]
          },
          "metadata": {
            "tags": []
          }
        },
        {
          "output_type": "display_data",
          "data": {
            "text/plain": [
              "array([0.5748111 , 0.57487917, 0.57494622, 0.57501233, 0.57507753,\n",
              "       0.57514167, 0.57520497, 0.57526731, 0.57532871, 0.57538933,\n",
              "       0.57544899, 0.57550782])"
            ]
          },
          "metadata": {
            "tags": []
          }
        },
        {
          "output_type": "display_data",
          "data": {
            "text/plain": [
              "array([0.57487917, 0.57494622, 0.57501233, 0.57507753, 0.57514167,\n",
              "       0.57520497, 0.57526731, 0.57532871, 0.57538933, 0.57544899,\n",
              "       0.57550782, 0.5755657 ])"
            ]
          },
          "metadata": {
            "tags": []
          }
        },
        {
          "output_type": "display_data",
          "data": {
            "text/plain": [
              "array([0.57494622, 0.57501233, 0.57507753, 0.57514167, 0.57520497,\n",
              "       0.57526731, 0.57532871, 0.57538933, 0.57544899, 0.57550782,\n",
              "       0.5755657 , 0.5756228 ])"
            ]
          },
          "metadata": {
            "tags": []
          }
        },
        {
          "output_type": "display_data",
          "data": {
            "text/plain": [
              "array([0.57501233, 0.57507753, 0.57514167, 0.57520497, 0.57526731,\n",
              "       0.57532871, 0.57538933, 0.57544899, 0.57550782, 0.5755657 ,\n",
              "       0.5756228 , 0.57567906])"
            ]
          },
          "metadata": {
            "tags": []
          }
        },
        {
          "output_type": "display_data",
          "data": {
            "text/plain": [
              "array([0.57507753, 0.57514167, 0.57520497, 0.57526731, 0.57532871,\n",
              "       0.57538933, 0.57544899, 0.57550782, 0.5755657 , 0.5756228 ,\n",
              "       0.57567906, 0.57573462])"
            ]
          },
          "metadata": {
            "tags": []
          }
        },
        {
          "output_type": "display_data",
          "data": {
            "text/plain": [
              "array([0.57514167, 0.57520497, 0.57526731, 0.57532871, 0.57538933,\n",
              "       0.57544899, 0.57550782, 0.5755657 , 0.5756228 , 0.57567906,\n",
              "       0.57573462, 0.57578921])"
            ]
          },
          "metadata": {
            "tags": []
          }
        },
        {
          "output_type": "display_data",
          "data": {
            "text/plain": [
              "array([0.57520497, 0.57526731, 0.57532871, 0.57538933, 0.57544899,\n",
              "       0.57550782, 0.5755657 , 0.5756228 , 0.57567906, 0.57573462,\n",
              "       0.57578921, 0.5758431 ])"
            ]
          },
          "metadata": {
            "tags": []
          }
        },
        {
          "output_type": "display_data",
          "data": {
            "text/plain": [
              "array([0.57526731, 0.57532871, 0.57538933, 0.57544899, 0.57550782,\n",
              "       0.5755657 , 0.5756228 , 0.57567906, 0.57573462, 0.57578921,\n",
              "       0.5758431 , 0.57589614])"
            ]
          },
          "metadata": {
            "tags": []
          }
        },
        {
          "output_type": "display_data",
          "data": {
            "text/plain": [
              "array([0.57532871, 0.57538933, 0.57544899, 0.57550782, 0.5755657 ,\n",
              "       0.5756228 , 0.57567906, 0.57573462, 0.57578921, 0.5758431 ,\n",
              "       0.57589614, 0.57594848])"
            ]
          },
          "metadata": {
            "tags": []
          }
        },
        {
          "output_type": "display_data",
          "data": {
            "text/plain": [
              "array([0.57538933, 0.57544899, 0.57550782, 0.5755657 , 0.5756228 ,\n",
              "       0.57567906, 0.57573462, 0.57578921, 0.5758431 , 0.57589614,\n",
              "       0.57594848, 0.57599998])"
            ]
          },
          "metadata": {
            "tags": []
          }
        },
        {
          "output_type": "display_data",
          "data": {
            "text/plain": [
              "array([0.57544899, 0.57550782, 0.5755657 , 0.5756228 , 0.57567906,\n",
              "       0.57573462, 0.57578921, 0.5758431 , 0.57589614, 0.57594848,\n",
              "       0.57599998, 0.57605082])"
            ]
          },
          "metadata": {
            "tags": []
          }
        },
        {
          "output_type": "display_data",
          "data": {
            "text/plain": [
              "array([0.57550782, 0.5755657 , 0.5756228 , 0.57567906, 0.57573462,\n",
              "       0.57578921, 0.5758431 , 0.57589614, 0.57594848, 0.57599998,\n",
              "       0.57605082, 0.57610095])"
            ]
          },
          "metadata": {
            "tags": []
          }
        },
        {
          "output_type": "display_data",
          "data": {
            "text/plain": [
              "array([0.5755657 , 0.5756228 , 0.57567906, 0.57573462, 0.57578921,\n",
              "       0.5758431 , 0.57589614, 0.57594848, 0.57599998, 0.57605082,\n",
              "       0.57610095, 0.57615018])"
            ]
          },
          "metadata": {
            "tags": []
          }
        },
        {
          "output_type": "display_data",
          "data": {
            "text/plain": [
              "array([0.5756228 , 0.57567906, 0.57573462, 0.57578921, 0.5758431 ,\n",
              "       0.57589614, 0.57594848, 0.57599998, 0.57605082, 0.57610095,\n",
              "       0.57615018, 0.57619888])"
            ]
          },
          "metadata": {
            "tags": []
          }
        },
        {
          "output_type": "display_data",
          "data": {
            "text/plain": [
              "array([0.57567906, 0.57573462, 0.57578921, 0.5758431 , 0.57589614,\n",
              "       0.57594848, 0.57599998, 0.57605082, 0.57610095, 0.57615018,\n",
              "       0.57619888, 0.5762468 ])"
            ]
          },
          "metadata": {
            "tags": []
          }
        },
        {
          "output_type": "display_data",
          "data": {
            "text/plain": [
              "array([0.57573462, 0.57578921, 0.5758431 , 0.57589614, 0.57594848,\n",
              "       0.57599998, 0.57605082, 0.57610095, 0.57615018, 0.57619888,\n",
              "       0.5762468 , 0.57629406])"
            ]
          },
          "metadata": {
            "tags": []
          }
        },
        {
          "output_type": "display_data",
          "data": {
            "text/plain": [
              "array([0.57578921, 0.5758431 , 0.57589614, 0.57594848, 0.57599998,\n",
              "       0.57605082, 0.57610095, 0.57615018, 0.57619888, 0.5762468 ,\n",
              "       0.57629406, 0.57634056])"
            ]
          },
          "metadata": {
            "tags": []
          }
        },
        {
          "output_type": "display_data",
          "data": {
            "text/plain": [
              "array([0.5758431 , 0.57589614, 0.57594848, 0.57599998, 0.57605082,\n",
              "       0.57610095, 0.57615018, 0.57619888, 0.5762468 , 0.57629406,\n",
              "       0.57634056, 0.57638639])"
            ]
          },
          "metadata": {
            "tags": []
          }
        },
        {
          "output_type": "display_data",
          "data": {
            "text/plain": [
              "array([0.57589614, 0.57594848, 0.57599998, 0.57605082, 0.57610095,\n",
              "       0.57615018, 0.57619888, 0.5762468 , 0.57629406, 0.57634056,\n",
              "       0.57638639, 0.57643163])"
            ]
          },
          "metadata": {
            "tags": []
          }
        },
        {
          "output_type": "display_data",
          "data": {
            "text/plain": [
              "array([0.57594848, 0.57599998, 0.57605082, 0.57610095, 0.57615018,\n",
              "       0.57619888, 0.5762468 , 0.57629406, 0.57634056, 0.57638639,\n",
              "       0.57643163, 0.5764761 ])"
            ]
          },
          "metadata": {
            "tags": []
          }
        },
        {
          "output_type": "display_data",
          "data": {
            "text/plain": [
              "array([0.57599998, 0.57605082, 0.57610095, 0.57615018, 0.57619888,\n",
              "       0.5762468 , 0.57629406, 0.57634056, 0.57638639, 0.57643163,\n",
              "       0.5764761 , 0.57652009])"
            ]
          },
          "metadata": {
            "tags": []
          }
        },
        {
          "output_type": "display_data",
          "data": {
            "text/plain": [
              "array([0.57605082, 0.57610095, 0.57615018, 0.57619888, 0.5762468 ,\n",
              "       0.57629406, 0.57634056, 0.57638639, 0.57643163, 0.5764761 ,\n",
              "       0.57652009, 0.5765633 ])"
            ]
          },
          "metadata": {
            "tags": []
          }
        },
        {
          "output_type": "display_data",
          "data": {
            "text/plain": [
              "array([0.57610095, 0.57615018, 0.57619888, 0.5762468 , 0.57629406,\n",
              "       0.57634056, 0.57638639, 0.57643163, 0.5764761 , 0.57652009,\n",
              "       0.5765633 , 0.57660592])"
            ]
          },
          "metadata": {
            "tags": []
          }
        },
        {
          "output_type": "display_data",
          "data": {
            "text/plain": [
              "array([0.57615018, 0.57619888, 0.5762468 , 0.57629406, 0.57634056,\n",
              "       0.57638639, 0.57643163, 0.5764761 , 0.57652009, 0.5765633 ,\n",
              "       0.57660592, 0.57664788])"
            ]
          },
          "metadata": {
            "tags": []
          }
        },
        {
          "output_type": "display_data",
          "data": {
            "text/plain": [
              "array([0.57619888, 0.5762468 , 0.57629406, 0.57634056, 0.57638639,\n",
              "       0.57643163, 0.5764761 , 0.57652009, 0.5765633 , 0.57660592,\n",
              "       0.57664788, 0.57668936])"
            ]
          },
          "metadata": {
            "tags": []
          }
        },
        {
          "output_type": "display_data",
          "data": {
            "text/plain": [
              "array([0.5762468 , 0.57629406, 0.57634056, 0.57638639, 0.57643163,\n",
              "       0.5764761 , 0.57652009, 0.5765633 , 0.57660592, 0.57664788,\n",
              "       0.57668936, 0.57673013])"
            ]
          },
          "metadata": {
            "tags": []
          }
        },
        {
          "output_type": "display_data",
          "data": {
            "text/plain": [
              "array([0.57629406, 0.57634056, 0.57638639, 0.57643163, 0.5764761 ,\n",
              "       0.57652009, 0.5765633 , 0.57660592, 0.57664788, 0.57668936,\n",
              "       0.57673013, 0.57677031])"
            ]
          },
          "metadata": {
            "tags": []
          }
        },
        {
          "output_type": "display_data",
          "data": {
            "text/plain": [
              "array([0.57634056, 0.57638639, 0.57643163, 0.5764761 , 0.57652009,\n",
              "       0.5765633 , 0.57660592, 0.57664788, 0.57668936, 0.57673013,\n",
              "       0.57677031, 0.57681   ])"
            ]
          },
          "metadata": {
            "tags": []
          }
        },
        {
          "output_type": "display_data",
          "data": {
            "text/plain": [
              "array([0.57638639, 0.57643163, 0.5764761 , 0.57652009, 0.5765633 ,\n",
              "       0.57660592, 0.57664788, 0.57668936, 0.57673013, 0.57677031,\n",
              "       0.57681   , 0.57684898])"
            ]
          },
          "metadata": {
            "tags": []
          }
        },
        {
          "output_type": "display_data",
          "data": {
            "text/plain": [
              "array([0.57643163, 0.5764761 , 0.57652009, 0.5765633 , 0.57660592,\n",
              "       0.57664788, 0.57668936, 0.57673013, 0.57677031, 0.57681   ,\n",
              "       0.57684898, 0.57688749])"
            ]
          },
          "metadata": {
            "tags": []
          }
        },
        {
          "output_type": "display_data",
          "data": {
            "text/plain": [
              "array([0.5764761 , 0.57652009, 0.5765633 , 0.57660592, 0.57664788,\n",
              "       0.57668936, 0.57673013, 0.57677031, 0.57681   , 0.57684898,\n",
              "       0.57688749, 0.5769254 ])"
            ]
          },
          "metadata": {
            "tags": []
          }
        },
        {
          "output_type": "display_data",
          "data": {
            "text/plain": [
              "array([0.57652009, 0.5765633 , 0.57660592, 0.57664788, 0.57668936,\n",
              "       0.57673013, 0.57677031, 0.57681   , 0.57684898, 0.57688749,\n",
              "       0.5769254 , 0.57696277])"
            ]
          },
          "metadata": {
            "tags": []
          }
        },
        {
          "output_type": "display_data",
          "data": {
            "text/plain": [
              "array([0.5765633 , 0.57660592, 0.57664788, 0.57668936, 0.57673013,\n",
              "       0.57677031, 0.57681   , 0.57684898, 0.57688749, 0.5769254 ,\n",
              "       0.57696277, 0.57699955])"
            ]
          },
          "metadata": {
            "tags": []
          }
        },
        {
          "output_type": "display_data",
          "data": {
            "text/plain": [
              "array([0.57660592, 0.57664788, 0.57668936, 0.57673013, 0.57677031,\n",
              "       0.57681   , 0.57684898, 0.57688749, 0.5769254 , 0.57696277,\n",
              "       0.57699955, 0.5770359 ])"
            ]
          },
          "metadata": {
            "tags": []
          }
        },
        {
          "output_type": "display_data",
          "data": {
            "text/plain": [
              "array([0.57664788, 0.57668936, 0.57673013, 0.57677031, 0.57681   ,\n",
              "       0.57684898, 0.57688749, 0.5769254 , 0.57696277, 0.57699955,\n",
              "       0.5770359 , 0.57707161])"
            ]
          },
          "metadata": {
            "tags": []
          }
        },
        {
          "output_type": "display_data",
          "data": {
            "text/plain": [
              "array([0.57668936, 0.57673013, 0.57677031, 0.57681   , 0.57684898,\n",
              "       0.57688749, 0.5769254 , 0.57696277, 0.57699955, 0.5770359 ,\n",
              "       0.57707161, 0.57710683])"
            ]
          },
          "metadata": {
            "tags": []
          }
        },
        {
          "output_type": "display_data",
          "data": {
            "text/plain": [
              "array([0.57673013, 0.57677031, 0.57681   , 0.57684898, 0.57688749,\n",
              "       0.5769254 , 0.57696277, 0.57699955, 0.5770359 , 0.57707161,\n",
              "       0.57710683, 0.57714164])"
            ]
          },
          "metadata": {
            "tags": []
          }
        },
        {
          "output_type": "display_data",
          "data": {
            "text/plain": [
              "array([0.57677031, 0.57681   , 0.57684898, 0.57688749, 0.5769254 ,\n",
              "       0.57696277, 0.57699955, 0.5770359 , 0.57707161, 0.57710683,\n",
              "       0.57714164, 0.57717586])"
            ]
          },
          "metadata": {
            "tags": []
          }
        },
        {
          "output_type": "display_data",
          "data": {
            "text/plain": [
              "array([0.57681   , 0.57684898, 0.57688749, 0.5769254 , 0.57696277,\n",
              "       0.57699955, 0.5770359 , 0.57707161, 0.57710683, 0.57714164,\n",
              "       0.57717586, 0.57720959])"
            ]
          },
          "metadata": {
            "tags": []
          }
        },
        {
          "output_type": "display_data",
          "data": {
            "text/plain": [
              "array([0.57684898, 0.57688749, 0.5769254 , 0.57696277, 0.57699955,\n",
              "       0.5770359 , 0.57707161, 0.57710683, 0.57714164, 0.57717586,\n",
              "       0.57720959, 0.57724285])"
            ]
          },
          "metadata": {
            "tags": []
          }
        },
        {
          "output_type": "display_data",
          "data": {
            "text/plain": [
              "array([0.57688749, 0.5769254 , 0.57696277, 0.57699955, 0.5770359 ,\n",
              "       0.57707161, 0.57710683, 0.57714164, 0.57717586, 0.57720959,\n",
              "       0.57724285, 0.57727563])"
            ]
          },
          "metadata": {
            "tags": []
          }
        },
        {
          "output_type": "display_data",
          "data": {
            "text/plain": [
              "array([0.5769254 , 0.57696277, 0.57699955, 0.5770359 , 0.57707161,\n",
              "       0.57710683, 0.57714164, 0.57717586, 0.57720959, 0.57724285,\n",
              "       0.57727563, 0.57730788])"
            ]
          },
          "metadata": {
            "tags": []
          }
        },
        {
          "output_type": "display_data",
          "data": {
            "text/plain": [
              "array([0.57696277, 0.57699955, 0.5770359 , 0.57707161, 0.57710683,\n",
              "       0.57714164, 0.57717586, 0.57720959, 0.57724285, 0.57727563,\n",
              "       0.57730788, 0.57733977])"
            ]
          },
          "metadata": {
            "tags": []
          }
        },
        {
          "output_type": "display_data",
          "data": {
            "text/plain": [
              "array([0.57699955, 0.5770359 , 0.57707161, 0.57710683, 0.57714164,\n",
              "       0.57717586, 0.57720959, 0.57724285, 0.57727563, 0.57730788,\n",
              "       0.57733977, 0.57737112])"
            ]
          },
          "metadata": {
            "tags": []
          }
        },
        {
          "output_type": "display_data",
          "data": {
            "text/plain": [
              "array([0.5770359 , 0.57707161, 0.57710683, 0.57714164, 0.57717586,\n",
              "       0.57720959, 0.57724285, 0.57727563, 0.57730788, 0.57733977,\n",
              "       0.57737112, 0.577402  ])"
            ]
          },
          "metadata": {
            "tags": []
          }
        },
        {
          "output_type": "display_data",
          "data": {
            "text/plain": [
              "array([0.57707161, 0.57710683, 0.57714164, 0.57717586, 0.57720959,\n",
              "       0.57724285, 0.57727563, 0.57730788, 0.57733977, 0.57737112,\n",
              "       0.577402  , 0.57743251])"
            ]
          },
          "metadata": {
            "tags": []
          }
        },
        {
          "output_type": "display_data",
          "data": {
            "text/plain": [
              "array([0.57710683, 0.57714164, 0.57717586, 0.57720959, 0.57724285,\n",
              "       0.57727563, 0.57730788, 0.57733977, 0.57737112, 0.577402  ,\n",
              "       0.57743251, 0.57746249])"
            ]
          },
          "metadata": {
            "tags": []
          }
        },
        {
          "output_type": "display_data",
          "data": {
            "text/plain": [
              "array([0.57714164, 0.57717586, 0.57720959, 0.57724285, 0.57727563,\n",
              "       0.57730788, 0.57733977, 0.57737112, 0.577402  , 0.57743251,\n",
              "       0.57746249, 0.57749212])"
            ]
          },
          "metadata": {
            "tags": []
          }
        },
        {
          "output_type": "display_data",
          "data": {
            "text/plain": [
              "array([0.57717586, 0.57720959, 0.57724285, 0.57727563, 0.57730788,\n",
              "       0.57733977, 0.57737112, 0.577402  , 0.57743251, 0.57746249,\n",
              "       0.57749212, 0.57752126])"
            ]
          },
          "metadata": {
            "tags": []
          }
        },
        {
          "output_type": "display_data",
          "data": {
            "text/plain": [
              "array([0.57720959, 0.57724285, 0.57727563, 0.57730788, 0.57733977,\n",
              "       0.57737112, 0.577402  , 0.57743251, 0.57746249, 0.57749212,\n",
              "       0.57752126, 0.57754993])"
            ]
          },
          "metadata": {
            "tags": []
          }
        },
        {
          "output_type": "display_data",
          "data": {
            "text/plain": [
              "array([0.57724285, 0.57727563, 0.57730788, 0.57733977, 0.57737112,\n",
              "       0.577402  , 0.57743251, 0.57746249, 0.57749212, 0.57752126,\n",
              "       0.57754993, 0.57757831])"
            ]
          },
          "metadata": {
            "tags": []
          }
        },
        {
          "output_type": "display_data",
          "data": {
            "text/plain": [
              "array([0.57727563, 0.57730788, 0.57733977, 0.57737112, 0.577402  ,\n",
              "       0.57743251, 0.57746249, 0.57749212, 0.57752126, 0.57754993,\n",
              "       0.57757831, 0.5776062 ])"
            ]
          },
          "metadata": {
            "tags": []
          }
        },
        {
          "output_type": "display_data",
          "data": {
            "text/plain": [
              "array([0.57730788, 0.57733977, 0.57737112, 0.577402  , 0.57743251,\n",
              "       0.57746249, 0.57749212, 0.57752126, 0.57754993, 0.57757831,\n",
              "       0.5776062 , 0.57763374])"
            ]
          },
          "metadata": {
            "tags": []
          }
        },
        {
          "output_type": "display_data",
          "data": {
            "text/plain": [
              "array([0.57733977, 0.57737112, 0.577402  , 0.57743251, 0.57746249,\n",
              "       0.57749212, 0.57752126, 0.57754993, 0.57757831, 0.5776062 ,\n",
              "       0.57763374, 0.5776608 ])"
            ]
          },
          "metadata": {
            "tags": []
          }
        },
        {
          "output_type": "display_data",
          "data": {
            "text/plain": [
              "array([0.57737112, 0.577402  , 0.57743251, 0.57746249, 0.57749212,\n",
              "       0.57752126, 0.57754993, 0.57757831, 0.5776062 , 0.57763374,\n",
              "       0.5776608 , 0.57768756])"
            ]
          },
          "metadata": {
            "tags": []
          }
        },
        {
          "output_type": "display_data",
          "data": {
            "text/plain": [
              "array([0.577402  , 0.57743251, 0.57746249, 0.57749212, 0.57752126,\n",
              "       0.57754993, 0.57757831, 0.5776062 , 0.57763374, 0.5776608 ,\n",
              "       0.57768756, 0.57771385])"
            ]
          },
          "metadata": {
            "tags": []
          }
        },
        {
          "output_type": "display_data",
          "data": {
            "text/plain": [
              "array([0.57743251, 0.57746249, 0.57749212, 0.57752126, 0.57754993,\n",
              "       0.57757831, 0.5776062 , 0.57763374, 0.5776608 , 0.57768756,\n",
              "       0.57771385, 0.57773978])"
            ]
          },
          "metadata": {
            "tags": []
          }
        },
        {
          "output_type": "display_data",
          "data": {
            "text/plain": [
              "array([0.57746249, 0.57749212, 0.57752126, 0.57754993, 0.57757831,\n",
              "       0.5776062 , 0.57763374, 0.5776608 , 0.57768756, 0.57771385,\n",
              "       0.57773978, 0.57776535])"
            ]
          },
          "metadata": {
            "tags": []
          }
        },
        {
          "output_type": "display_data",
          "data": {
            "text/plain": [
              "array([0.57749212, 0.57752126, 0.57754993, 0.57757831, 0.5776062 ,\n",
              "       0.57763374, 0.5776608 , 0.57768756, 0.57771385, 0.57773978,\n",
              "       0.57776535, 0.57779062])"
            ]
          },
          "metadata": {
            "tags": []
          }
        },
        {
          "output_type": "display_data",
          "data": {
            "text/plain": [
              "array([0.57752126, 0.57754993, 0.57757831, 0.5776062 , 0.57763374,\n",
              "       0.5776608 , 0.57768756, 0.57771385, 0.57773978, 0.57776535,\n",
              "       0.57779062, 0.57781541])"
            ]
          },
          "metadata": {
            "tags": []
          }
        },
        {
          "output_type": "display_data",
          "data": {
            "text/plain": [
              "array([0.57754993, 0.57757831, 0.5776062 , 0.57763374, 0.5776608 ,\n",
              "       0.57768756, 0.57771385, 0.57773978, 0.57776535, 0.57779062,\n",
              "       0.57781541, 0.57783985])"
            ]
          },
          "metadata": {
            "tags": []
          }
        },
        {
          "output_type": "display_data",
          "data": {
            "text/plain": [
              "array([0.57757831, 0.5776062 , 0.57763374, 0.5776608 , 0.57768756,\n",
              "       0.57771385, 0.57773978, 0.57776535, 0.57779062, 0.57781541,\n",
              "       0.57783985, 0.57786393])"
            ]
          },
          "metadata": {
            "tags": []
          }
        },
        {
          "output_type": "display_data",
          "data": {
            "text/plain": [
              "array([0.5776062 , 0.57763374, 0.5776608 , 0.57768756, 0.57771385,\n",
              "       0.57773978, 0.57776535, 0.57779062, 0.57781541, 0.57783985,\n",
              "       0.57786393, 0.57788771])"
            ]
          },
          "metadata": {
            "tags": []
          }
        },
        {
          "output_type": "display_data",
          "data": {
            "text/plain": [
              "array([0.57763374, 0.5776608 , 0.57768756, 0.57771385, 0.57773978,\n",
              "       0.57776535, 0.57779062, 0.57781541, 0.57783985, 0.57786393,\n",
              "       0.57788771, 0.57791114])"
            ]
          },
          "metadata": {
            "tags": []
          }
        },
        {
          "output_type": "display_data",
          "data": {
            "text/plain": [
              "array([0.5776608 , 0.57768756, 0.57771385, 0.57773978, 0.57776535,\n",
              "       0.57779062, 0.57781541, 0.57783985, 0.57786393, 0.57788771,\n",
              "       0.57791114, 0.57793421])"
            ]
          },
          "metadata": {
            "tags": []
          }
        },
        {
          "output_type": "display_data",
          "data": {
            "text/plain": [
              "array([0.57768756, 0.57771385, 0.57773978, 0.57776535, 0.57779062,\n",
              "       0.57781541, 0.57783985, 0.57786393, 0.57788771, 0.57791114,\n",
              "       0.57793421, 0.57795697])"
            ]
          },
          "metadata": {
            "tags": []
          }
        },
        {
          "output_type": "display_data",
          "data": {
            "text/plain": [
              "array([0.57771385, 0.57773978, 0.57776535, 0.57779062, 0.57781541,\n",
              "       0.57783985, 0.57786393, 0.57788771, 0.57791114, 0.57793421,\n",
              "       0.57795697, 0.57797939])"
            ]
          },
          "metadata": {
            "tags": []
          }
        },
        {
          "output_type": "display_data",
          "data": {
            "text/plain": [
              "array([0.57773978, 0.57776535, 0.57779062, 0.57781541, 0.57783985,\n",
              "       0.57786393, 0.57788771, 0.57791114, 0.57793421, 0.57795697,\n",
              "       0.57797939, 0.5780015 ])"
            ]
          },
          "metadata": {
            "tags": []
          }
        },
        {
          "output_type": "display_data",
          "data": {
            "text/plain": [
              "array([0.57776535, 0.57779062, 0.57781541, 0.57783985, 0.57786393,\n",
              "       0.57788771, 0.57791114, 0.57793421, 0.57795697, 0.57797939,\n",
              "       0.5780015 , 0.57802325])"
            ]
          },
          "metadata": {
            "tags": []
          }
        },
        {
          "output_type": "display_data",
          "data": {
            "text/plain": [
              "array([0.57779062, 0.57781541, 0.57783985, 0.57786393, 0.57788771,\n",
              "       0.57791114, 0.57793421, 0.57795697, 0.57797939, 0.5780015 ,\n",
              "       0.57802325, 0.57804471])"
            ]
          },
          "metadata": {
            "tags": []
          }
        },
        {
          "output_type": "display_data",
          "data": {
            "text/plain": [
              "array([0.57781541, 0.57783985, 0.57786393, 0.57788771, 0.57791114,\n",
              "       0.57793421, 0.57795697, 0.57797939, 0.5780015 , 0.57802325,\n",
              "       0.57804471, 0.57806587])"
            ]
          },
          "metadata": {
            "tags": []
          }
        },
        {
          "output_type": "display_data",
          "data": {
            "text/plain": [
              "array([0.57783985, 0.57786393, 0.57788771, 0.57791114, 0.57793421,\n",
              "       0.57795697, 0.57797939, 0.5780015 , 0.57802325, 0.57804471,\n",
              "       0.57806587, 0.57808673])"
            ]
          },
          "metadata": {
            "tags": []
          }
        },
        {
          "output_type": "display_data",
          "data": {
            "text/plain": [
              "array([0.57786393, 0.57788771, 0.57791114, 0.57793421, 0.57795697,\n",
              "       0.57797939, 0.5780015 , 0.57802325, 0.57804471, 0.57806587,\n",
              "       0.57808673, 0.57810724])"
            ]
          },
          "metadata": {
            "tags": []
          }
        },
        {
          "output_type": "display_data",
          "data": {
            "text/plain": [
              "array([0.57788771, 0.57791114, 0.57793421, 0.57795697, 0.57797939,\n",
              "       0.5780015 , 0.57802325, 0.57804471, 0.57806587, 0.57808673,\n",
              "       0.57810724, 0.5781275 ])"
            ]
          },
          "metadata": {
            "tags": []
          }
        },
        {
          "output_type": "display_data",
          "data": {
            "text/plain": [
              "array([0.57791114, 0.57793421, 0.57795697, 0.57797939, 0.5780015 ,\n",
              "       0.57802325, 0.57804471, 0.57806587, 0.57808673, 0.57810724,\n",
              "       0.5781275 , 0.57814747])"
            ]
          },
          "metadata": {
            "tags": []
          }
        },
        {
          "output_type": "display_data",
          "data": {
            "text/plain": [
              "array([0.57793421, 0.57795697, 0.57797939, 0.5780015 , 0.57802325,\n",
              "       0.57804471, 0.57806587, 0.57808673, 0.57810724, 0.5781275 ,\n",
              "       0.57814747, 0.57816714])"
            ]
          },
          "metadata": {
            "tags": []
          }
        },
        {
          "output_type": "display_data",
          "data": {
            "text/plain": [
              "array([0.57795697, 0.57797939, 0.5780015 , 0.57802325, 0.57804471,\n",
              "       0.57806587, 0.57808673, 0.57810724, 0.5781275 , 0.57814747,\n",
              "       0.57816714, 0.57818639])"
            ]
          },
          "metadata": {
            "tags": []
          }
        },
        {
          "output_type": "display_data",
          "data": {
            "text/plain": [
              "array([0.57797939, 0.5780015 , 0.57802325, 0.57804471, 0.57806587,\n",
              "       0.57808673, 0.57810724, 0.5781275 , 0.57814747, 0.57816714,\n",
              "       0.57818639, 0.57820559])"
            ]
          },
          "metadata": {
            "tags": []
          }
        },
        {
          "output_type": "display_data",
          "data": {
            "text/plain": [
              "array([0.5780015 , 0.57802325, 0.57804471, 0.57806587, 0.57808673,\n",
              "       0.57810724, 0.5781275 , 0.57814747, 0.57816714, 0.57818639,\n",
              "       0.57820559, 0.57822442])"
            ]
          },
          "metadata": {
            "tags": []
          }
        },
        {
          "output_type": "display_data",
          "data": {
            "text/plain": [
              "array([0.57802325, 0.57804471, 0.57806587, 0.57808673, 0.57810724,\n",
              "       0.5781275 , 0.57814747, 0.57816714, 0.57818639, 0.57820559,\n",
              "       0.57822442, 0.5782429 ])"
            ]
          },
          "metadata": {
            "tags": []
          }
        },
        {
          "output_type": "display_data",
          "data": {
            "text/plain": [
              "array([0.57804471, 0.57806587, 0.57808673, 0.57810724, 0.5781275 ,\n",
              "       0.57814747, 0.57816714, 0.57818639, 0.57820559, 0.57822442,\n",
              "       0.5782429 , 0.57826114])"
            ]
          },
          "metadata": {
            "tags": []
          }
        },
        {
          "output_type": "display_data",
          "data": {
            "text/plain": [
              "array([0.57806587, 0.57808673, 0.57810724, 0.5781275 , 0.57814747,\n",
              "       0.57816714, 0.57818639, 0.57820559, 0.57822442, 0.5782429 ,\n",
              "       0.57826114, 0.57827914])"
            ]
          },
          "metadata": {
            "tags": []
          }
        },
        {
          "output_type": "display_data",
          "data": {
            "text/plain": [
              "array([0.57808673, 0.57810724, 0.5781275 , 0.57814747, 0.57816714,\n",
              "       0.57818639, 0.57820559, 0.57822442, 0.5782429 , 0.57826114,\n",
              "       0.57827914, 0.57829696])"
            ]
          },
          "metadata": {
            "tags": []
          }
        },
        {
          "output_type": "display_data",
          "data": {
            "text/plain": [
              "array([0.57810724, 0.5781275 , 0.57814747, 0.57816714, 0.57818639,\n",
              "       0.57820559, 0.57822442, 0.5782429 , 0.57826114, 0.57827914,\n",
              "       0.57829696, 0.57831442])"
            ]
          },
          "metadata": {
            "tags": []
          }
        },
        {
          "output_type": "display_data",
          "data": {
            "text/plain": [
              "array([0.5781275 , 0.57814747, 0.57816714, 0.57818639, 0.57820559,\n",
              "       0.57822442, 0.5782429 , 0.57826114, 0.57827914, 0.57829696,\n",
              "       0.57831442, 0.57833159])"
            ]
          },
          "metadata": {
            "tags": []
          }
        },
        {
          "output_type": "display_data",
          "data": {
            "text/plain": [
              "array([0.57814747, 0.57816714, 0.57818639, 0.57820559, 0.57822442,\n",
              "       0.5782429 , 0.57826114, 0.57827914, 0.57829696, 0.57831442,\n",
              "       0.57833159, 0.57834864])"
            ]
          },
          "metadata": {
            "tags": []
          }
        },
        {
          "output_type": "display_data",
          "data": {
            "text/plain": [
              "array([0.57816714, 0.57818639, 0.57820559, 0.57822442, 0.5782429 ,\n",
              "       0.57826114, 0.57827914, 0.57829696, 0.57831442, 0.57833159,\n",
              "       0.57834864, 0.57836533])"
            ]
          },
          "metadata": {
            "tags": []
          }
        },
        {
          "output_type": "display_data",
          "data": {
            "text/plain": [
              "array([0.57818639, 0.57820559, 0.57822442, 0.5782429 , 0.57826114,\n",
              "       0.57827914, 0.57829696, 0.57831442, 0.57833159, 0.57834864,\n",
              "       0.57836533, 0.57838178])"
            ]
          },
          "metadata": {
            "tags": []
          }
        },
        {
          "output_type": "display_data",
          "data": {
            "text/plain": [
              "array([0.57820559, 0.57822442, 0.5782429 , 0.57826114, 0.57827914,\n",
              "       0.57829696, 0.57831442, 0.57833159, 0.57834864, 0.57836533,\n",
              "       0.57838178, 0.57839811])"
            ]
          },
          "metadata": {
            "tags": []
          }
        },
        {
          "output_type": "display_data",
          "data": {
            "text/plain": [
              "array([0.57822442, 0.5782429 , 0.57826114, 0.57827914, 0.57829696,\n",
              "       0.57831442, 0.57833159, 0.57834864, 0.57836533, 0.57838178,\n",
              "       0.57839811, 0.57841414])"
            ]
          },
          "metadata": {
            "tags": []
          }
        },
        {
          "output_type": "display_data",
          "data": {
            "text/plain": [
              "array([0.5782429 , 0.57826114, 0.57827914, 0.57829696, 0.57831442,\n",
              "       0.57833159, 0.57834864, 0.57836533, 0.57838178, 0.57839811,\n",
              "       0.57841414, 0.57842994])"
            ]
          },
          "metadata": {
            "tags": []
          }
        },
        {
          "output_type": "display_data",
          "data": {
            "text/plain": [
              "array([0.57826114, 0.57827914, 0.57829696, 0.57831442, 0.57833159,\n",
              "       0.57834864, 0.57836533, 0.57838178, 0.57839811, 0.57841414,\n",
              "       0.57842994, 0.57844543])"
            ]
          },
          "metadata": {
            "tags": []
          }
        },
        {
          "output_type": "display_data",
          "data": {
            "text/plain": [
              "array([0.57827914, 0.57829696, 0.57831442, 0.57833159, 0.57834864,\n",
              "       0.57836533, 0.57838178, 0.57839811, 0.57841414, 0.57842994,\n",
              "       0.57844543, 0.57846081])"
            ]
          },
          "metadata": {
            "tags": []
          }
        },
        {
          "output_type": "display_data",
          "data": {
            "text/plain": [
              "array([0.57829696, 0.57831442, 0.57833159, 0.57834864, 0.57836533,\n",
              "       0.57838178, 0.57839811, 0.57841414, 0.57842994, 0.57844543,\n",
              "       0.57846081, 0.57847589])"
            ]
          },
          "metadata": {
            "tags": []
          }
        },
        {
          "output_type": "display_data",
          "data": {
            "text/plain": [
              "array([0.57831442, 0.57833159, 0.57834864, 0.57836533, 0.57838178,\n",
              "       0.57839811, 0.57841414, 0.57842994, 0.57844543, 0.57846081,\n",
              "       0.57847589, 0.57849079])"
            ]
          },
          "metadata": {
            "tags": []
          }
        },
        {
          "output_type": "display_data",
          "data": {
            "text/plain": [
              "array([0.57833159, 0.57834864, 0.57836533, 0.57838178, 0.57839811,\n",
              "       0.57841414, 0.57842994, 0.57844543, 0.57846081, 0.57847589,\n",
              "       0.57849079, 0.57850552])"
            ]
          },
          "metadata": {
            "tags": []
          }
        },
        {
          "output_type": "display_data",
          "data": {
            "text/plain": [
              "array([0.57834864, 0.57836533, 0.57838178, 0.57839811, 0.57841414,\n",
              "       0.57842994, 0.57844543, 0.57846081, 0.57847589, 0.57849079,\n",
              "       0.57850552, 0.57851994])"
            ]
          },
          "metadata": {
            "tags": []
          }
        },
        {
          "output_type": "display_data",
          "data": {
            "text/plain": [
              "array([0.57836533, 0.57838178, 0.57839811, 0.57841414, 0.57842994,\n",
              "       0.57844543, 0.57846081, 0.57847589, 0.57849079, 0.57850552,\n",
              "       0.57851994, 0.57853431])"
            ]
          },
          "metadata": {
            "tags": []
          }
        },
        {
          "output_type": "display_data",
          "data": {
            "text/plain": [
              "array([0.57838178, 0.57839811, 0.57841414, 0.57842994, 0.57844543,\n",
              "       0.57846081, 0.57847589, 0.57849079, 0.57850552, 0.57851994,\n",
              "       0.57853431, 0.57854819])"
            ]
          },
          "metadata": {
            "tags": []
          }
        },
        {
          "output_type": "display_data",
          "data": {
            "text/plain": [
              "array([0.57839811, 0.57841414, 0.57842994, 0.57844543, 0.57846081,\n",
              "       0.57847589, 0.57849079, 0.57850552, 0.57851994, 0.57853431,\n",
              "       0.57854819, 0.57856214])"
            ]
          },
          "metadata": {
            "tags": []
          }
        },
        {
          "output_type": "display_data",
          "data": {
            "text/plain": [
              "array([0.57841414, 0.57842994, 0.57844543, 0.57846081, 0.57847589,\n",
              "       0.57849079, 0.57850552, 0.57851994, 0.57853431, 0.57854819,\n",
              "       0.57856214, 0.57857579])"
            ]
          },
          "metadata": {
            "tags": []
          }
        },
        {
          "output_type": "display_data",
          "data": {
            "text/plain": [
              "array([0.57842994, 0.57844543, 0.57846081, 0.57847589, 0.57849079,\n",
              "       0.57850552, 0.57851994, 0.57853431, 0.57854819, 0.57856214,\n",
              "       0.57857579, 0.57858926])"
            ]
          },
          "metadata": {
            "tags": []
          }
        },
        {
          "output_type": "display_data",
          "data": {
            "text/plain": [
              "array([0.57844543, 0.57846081, 0.57847589, 0.57849079, 0.57850552,\n",
              "       0.57851994, 0.57853431, 0.57854819, 0.57856214, 0.57857579,\n",
              "       0.57858926, 0.57860243])"
            ]
          },
          "metadata": {
            "tags": []
          }
        },
        {
          "output_type": "display_data",
          "data": {
            "text/plain": [
              "array([0.57846081, 0.57847589, 0.57849079, 0.57850552, 0.57851994,\n",
              "       0.57853431, 0.57854819, 0.57856214, 0.57857579, 0.57858926,\n",
              "       0.57860243, 0.57861555])"
            ]
          },
          "metadata": {
            "tags": []
          }
        },
        {
          "output_type": "display_data",
          "data": {
            "text/plain": [
              "array([0.57847589, 0.57849079, 0.57850552, 0.57851994, 0.57853431,\n",
              "       0.57854819, 0.57856214, 0.57857579, 0.57858926, 0.57860243,\n",
              "       0.57861555, 0.57862842])"
            ]
          },
          "metadata": {
            "tags": []
          }
        },
        {
          "output_type": "display_data",
          "data": {
            "text/plain": [
              "array([0.57849079, 0.57850552, 0.57851994, 0.57853431, 0.57854819,\n",
              "       0.57856214, 0.57857579, 0.57858926, 0.57860243, 0.57861555,\n",
              "       0.57862842, 0.57864118])"
            ]
          },
          "metadata": {
            "tags": []
          }
        },
        {
          "output_type": "display_data",
          "data": {
            "text/plain": [
              "array([0.57850552, 0.57851994, 0.57853431, 0.57854819, 0.57856214,\n",
              "       0.57857579, 0.57858926, 0.57860243, 0.57861555, 0.57862842,\n",
              "       0.57864118, 0.57865363])"
            ]
          },
          "metadata": {
            "tags": []
          }
        },
        {
          "output_type": "display_data",
          "data": {
            "text/plain": [
              "array([0.57851994, 0.57853431, 0.57854819, 0.57856214, 0.57857579,\n",
              "       0.57858926, 0.57860243, 0.57861555, 0.57862842, 0.57864118,\n",
              "       0.57865363, 0.57866591])"
            ]
          },
          "metadata": {
            "tags": []
          }
        },
        {
          "output_type": "display_data",
          "data": {
            "text/plain": [
              "array([0.57853431, 0.57854819, 0.57856214, 0.57857579, 0.57858926,\n",
              "       0.57860243, 0.57861555, 0.57862842, 0.57864118, 0.57865363,\n",
              "       0.57866591, 0.57867813])"
            ]
          },
          "metadata": {
            "tags": []
          }
        },
        {
          "output_type": "display_data",
          "data": {
            "text/plain": [
              "array([0.57854819, 0.57856214, 0.57857579, 0.57858926, 0.57860243,\n",
              "       0.57861555, 0.57862842, 0.57864118, 0.57865363, 0.57866591,\n",
              "       0.57867813, 0.57869005])"
            ]
          },
          "metadata": {
            "tags": []
          }
        },
        {
          "output_type": "display_data",
          "data": {
            "text/plain": [
              "array([0.57856214, 0.57857579, 0.57858926, 0.57860243, 0.57861555,\n",
              "       0.57862842, 0.57864118, 0.57865363, 0.57866591, 0.57867813,\n",
              "       0.57869005, 0.57870185])"
            ]
          },
          "metadata": {
            "tags": []
          }
        },
        {
          "output_type": "display_data",
          "data": {
            "text/plain": [
              "array([0.57857579, 0.57858926, 0.57860243, 0.57861555, 0.57862842,\n",
              "       0.57864118, 0.57865363, 0.57866591, 0.57867813, 0.57869005,\n",
              "       0.57870185, 0.57871342])"
            ]
          },
          "metadata": {
            "tags": []
          }
        },
        {
          "output_type": "display_data",
          "data": {
            "text/plain": [
              "array([0.57858926, 0.57860243, 0.57861555, 0.57862842, 0.57864118,\n",
              "       0.57865363, 0.57866591, 0.57867813, 0.57869005, 0.57870185,\n",
              "       0.57871342, 0.57872492])"
            ]
          },
          "metadata": {
            "tags": []
          }
        },
        {
          "output_type": "display_data",
          "data": {
            "text/plain": [
              "array([0.57860243, 0.57861555, 0.57862842, 0.57864118, 0.57865363,\n",
              "       0.57866591, 0.57867813, 0.57869005, 0.57870185, 0.57871342,\n",
              "       0.57872492, 0.57873619])"
            ]
          },
          "metadata": {
            "tags": []
          }
        },
        {
          "output_type": "display_data",
          "data": {
            "text/plain": [
              "array([0.57861555, 0.57862842, 0.57864118, 0.57865363, 0.57866591,\n",
              "       0.57867813, 0.57869005, 0.57870185, 0.57871342, 0.57872492,\n",
              "       0.57873619, 0.57874733])"
            ]
          },
          "metadata": {
            "tags": []
          }
        },
        {
          "output_type": "display_data",
          "data": {
            "text/plain": [
              "array([0.57862842, 0.57864118, 0.57865363, 0.57866591, 0.57867813,\n",
              "       0.57869005, 0.57870185, 0.57871342, 0.57872492, 0.57873619,\n",
              "       0.57874733, 0.57875824])"
            ]
          },
          "metadata": {
            "tags": []
          }
        },
        {
          "output_type": "display_data",
          "data": {
            "text/plain": [
              "array([0.57864118, 0.57865363, 0.57866591, 0.57867813, 0.57869005,\n",
              "       0.57870185, 0.57871342, 0.57872492, 0.57873619, 0.57874733,\n",
              "       0.57875824, 0.57876909])"
            ]
          },
          "metadata": {
            "tags": []
          }
        }
      ]
    },
    {
      "cell_type": "code",
      "metadata": {
        "id": "Kxj-f_Vv_TR4",
        "outputId": "cad690f2-68b5-4cf6-d116-cd94c2e6dc62",
        "colab": {
          "base_uri": "https://localhost:8080/",
          "height": 1000
        }
      },
      "source": [
        "type(stock_min_max.inverse_transform(np.reshape(list_op, (-1,1))))\n",
        "pred_stock = stock_min_max.inverse_transform(np.reshape(list_op, (-1,1)))\n",
        "input_stock = (stock_min_max.inverse_transform(np.reshape(x_test, (-1,1))))\n",
        "input_stock = input_stock.tolist()\n",
        "pred_stock = pred_stock.tolist()\n",
        "input_stock.extend(pred_stock)\n",
        "input_stock"
      ],
      "execution_count": 19,
      "outputs": [
        {
          "output_type": "execute_result",
          "data": {
            "text/plain": [
              "[[28.048999999999996],\n",
              " [28.003],\n",
              " [28.058000000000003],\n",
              " [28.073000000000004],\n",
              " [28.058000000000003],\n",
              " [28.195],\n",
              " [27.726999999999997],\n",
              " [27.694000000000003],\n",
              " [28.090999999999998],\n",
              " [28.535],\n",
              " [28.451999999999998],\n",
              " [28.564000000000004],\n",
              " [28.421],\n",
              " [28.579000000000004],\n",
              " [28.750999999999998],\n",
              " [29.064000000000004],\n",
              " [29.215999999999998],\n",
              " [29.095],\n",
              " [29.112],\n",
              " [29.224000000000004],\n",
              " [29.119],\n",
              " [29.163],\n",
              " [28.968000000000004],\n",
              " [28.63],\n",
              " [28.63],\n",
              " [28.63],\n",
              " [28.405],\n",
              " [28.555999999999997],\n",
              " [28.604999999999997],\n",
              " [28.517],\n",
              " [28.67],\n",
              " [28.654],\n",
              " [28.348000000000003],\n",
              " [28.34],\n",
              " [28.267],\n",
              " [28.099],\n",
              " [27.944000000000003],\n",
              " [27.995],\n",
              " [28.396000000000004],\n",
              " [28.613999999999997],\n",
              " [28.648000000000007],\n",
              " [28.412999999999997],\n",
              " [28.316],\n",
              " [28.468000000000004],\n",
              " [28.654],\n",
              " [28.814],\n",
              " [28.951999999999998],\n",
              " [29.185000000000002],\n",
              " [28.968000000000004],\n",
              " [28.822],\n",
              " [28.974],\n",
              " [28.734],\n",
              " [28.541999999999998],\n",
              " [28.34],\n",
              " [28.461],\n",
              " [28.405],\n",
              " [28.405],\n",
              " [28.491999999999994],\n",
              " [28.396000000000004],\n",
              " [28.267],\n",
              " [28.308000000000003],\n",
              " [28.396000000000004],\n",
              " [28.355],\n",
              " [28.693],\n",
              " [28.579000000000004],\n",
              " [29.154],\n",
              " [30.079000000000004],\n",
              " [30.594000000000005],\n",
              " [30.601999999999997],\n",
              " [30.715000000000003],\n",
              " [30.409000000000002],\n",
              " [30.246999999999996],\n",
              " [30.361],\n",
              " [30.424],\n",
              " [30.175],\n",
              " [29.958000000000006],\n",
              " [30.571999999999996],\n",
              " [30.391999999999996],\n",
              " [30.239000000000004],\n",
              " [30.230000000000004],\n",
              " [30.230000000000004],\n",
              " [30.239000000000004],\n",
              " [30.53],\n",
              " [30.504],\n",
              " [30.683000000000007],\n",
              " [30.578000000000003],\n",
              " [30.594000000000005],\n",
              " [29.748000000000005],\n",
              " [29.588000000000005],\n",
              " [29.427],\n",
              " [29.499],\n",
              " [29.258000000000003],\n",
              " [29.041999999999998],\n",
              " [29.137],\n",
              " [29.006999999999994],\n",
              " [29.024],\n",
              " [29.171],\n",
              " [29.199],\n",
              " [29.282999999999998],\n",
              " [29.233000000000004],\n",
              " [29.064000000000004],\n",
              " [28.773999999999997],\n",
              " [28.604999999999997],\n",
              " [28.693],\n",
              " [28.799],\n",
              " [29.361],\n",
              " [29.095],\n",
              " [28.876999999999995],\n",
              " [29.073000000000004],\n",
              " [28.912999999999997],\n",
              " [28.5],\n",
              " [28.258000000000003],\n",
              " [28.451999999999998],\n",
              " [27.903999999999996],\n",
              " [28.107],\n",
              " [28.178],\n",
              " [28.073000000000004],\n",
              " [27.814],\n",
              " [27.953000000000003],\n",
              " [27.64],\n",
              " [27.736000000000004],\n",
              " [27.631999999999998],\n",
              " [27.726999999999997],\n",
              " [27.445999999999998],\n",
              " [27.623],\n",
              " [27.791],\n",
              " [27.665],\n",
              " [27.912],\n",
              " [27.995],\n",
              " [28.564000000000004],\n",
              " [28.831],\n",
              " [28.839000000000002],\n",
              " [28.982],\n",
              " [28.814],\n",
              " [28.621],\n",
              " [28.621],\n",
              " [28.468000000000004],\n",
              " [28.412999999999997],\n",
              " [28.436],\n",
              " [28.267],\n",
              " [28.195],\n",
              " [28.003],\n",
              " [28.081999999999997],\n",
              " [28.136999999999993],\n",
              " [28.324],\n",
              " [28.483],\n",
              " [28.468000000000004],\n",
              " [28.34],\n",
              " [28.282999999999998],\n",
              " [28.178],\n",
              " [28.282999999999998],\n",
              " [28.017],\n",
              " [27.987000000000002],\n",
              " [28.509],\n",
              " [28.855],\n",
              " [29.66],\n",
              " [29.675],\n",
              " [29.821],\n",
              " [30.039],\n",
              " [30.063000000000002],\n",
              " [29.910999999999998],\n",
              " [29.982],\n",
              " [29.851999999999997],\n",
              " [29.997],\n",
              " [29.612],\n",
              " [29.764999999999997],\n",
              " [29.467],\n",
              " [29.499],\n",
              " [29.652],\n",
              " [29.410999999999998],\n",
              " [29.755999999999997],\n",
              " [29.87],\n",
              " [30.063000000000002],\n",
              " [30.272],\n",
              " [30.095999999999997],\n",
              " [30.239000000000004],\n",
              " [30.11],\n",
              " [30.375999999999998],\n",
              " [30.255],\n",
              " [30.15],\n",
              " [30.441],\n",
              " [30.11],\n",
              " [30.022000000000002],\n",
              " [29.595999999999997],\n",
              " [30.046000000000003],\n",
              " [30.159],\n",
              " [29.828000000000007],\n",
              " [30.305],\n",
              " [30.432],\n",
              " [30.691999999999997],\n",
              " [30.65],\n",
              " [31.633000000000003],\n",
              " [31.456],\n",
              " [31.238000000000003],\n",
              " [30.787],\n",
              " [30.761999999999997],\n",
              " [30.609000000000005],\n",
              " [30.641],\n",
              " [30.691999999999997],\n",
              " [30.821],\n",
              " [30.804000000000006],\n",
              " [31.158],\n",
              " [31.029],\n",
              " [30.98],\n",
              " [31.092],\n",
              " [30.513],\n",
              " [30.752999999999997],\n",
              " [31.398000000000003],\n",
              " [31.802],\n",
              " [32.3],\n",
              " [32.775999999999996],\n",
              " [32.565],\n",
              " [32.775999999999996],\n",
              " [32.3],\n",
              " [32.864000000000004],\n",
              " [32.382],\n",
              " [32.542],\n",
              " [31.825],\n",
              " [31.228999999999996],\n",
              " [31.618000000000002],\n",
              " [31.206000000000003],\n",
              " [31.36],\n",
              " [31.421999999999997],\n",
              " [30.641],\n",
              " [31.479],\n",
              " [31.785],\n",
              " [32.574],\n",
              " [31.351],\n",
              " [30.779],\n",
              " [30.730999999999998],\n",
              " [30.424],\n",
              " [29.709000000000003],\n",
              " [29.95],\n",
              " [30.956999999999997],\n",
              " [30.770999999999997],\n",
              " [30.875],\n",
              " [31.513],\n",
              " [31.496],\n",
              " [31.728999999999996],\n",
              " [31.398000000000003],\n",
              " [30.633000000000003],\n",
              " [31.165],\n",
              " [30.916000000000004],\n",
              " [31.294],\n",
              " [31.432],\n",
              " [31.198],\n",
              " [31.721],\n",
              " [31.198],\n",
              " [31.552000000000003],\n",
              " [31.802],\n",
              " [32.124],\n",
              " [32.615],\n",
              " [32.486],\n",
              " [32.348],\n",
              " [33.556999999999995],\n",
              " [33.628],\n",
              " [33.203],\n",
              " [33.211999999999996],\n",
              " [32.889],\n",
              " [33.09],\n",
              " [33.227],\n",
              " [33.324],\n",
              " [33.33],\n",
              " [33.83],\n",
              " [33.91],\n",
              " [33.453],\n",
              " [33.575],\n",
              " [33.628],\n",
              " [33.435],\n",
              " [33.83],\n",
              " [33.661],\n",
              " [33.493],\n",
              " [33.034],\n",
              " [32.864000000000004],\n",
              " [32.824],\n",
              " [33.01],\n",
              " [32.839],\n",
              " [32.236],\n",
              " [32.34],\n",
              " [32.591],\n",
              " [32.391],\n",
              " [32.333],\n",
              " [32.510999999999996],\n",
              " [32.654],\n",
              " [32.591],\n",
              " [33.138000000000005],\n",
              " [32.478],\n",
              " [32.47],\n",
              " [32.365],\n",
              " [32.348],\n",
              " [31.465],\n",
              " [31.414],\n",
              " [30.899],\n",
              " [30.794],\n",
              " [31.569000000000003],\n",
              " [31.405],\n",
              " [30.844],\n",
              " [31.116999999999997],\n",
              " [30.721999999999998],\n",
              " [30.624000000000006],\n",
              " [29.925000000000004],\n",
              " [30.328000000000007],\n",
              " [29.572],\n",
              " [30.15],\n",
              " [30.965],\n",
              " [30.706999999999997],\n",
              " [30.828000000000007],\n",
              " [29.731999999999996],\n",
              " [29.185000000000002],\n",
              " [29.555000000000003],\n",
              " [29.997],\n",
              " [29.974999999999998],\n",
              " [30.116],\n",
              " [29.814],\n",
              " [29.989],\n",
              " [30.255],\n",
              " [29.716999999999995],\n",
              " [29.37],\n",
              " [29.625999999999998],\n",
              " [29.441],\n",
              " [29.403000000000002],\n",
              " [29.903000000000002],\n",
              " [30.216999999999995],\n",
              " [30.230000000000004],\n",
              " [29.942],\n",
              " [30.063000000000002],\n",
              " [29.845000000000002],\n",
              " [29.595999999999997],\n",
              " [29.625999999999998],\n",
              " [29.015999999999995],\n",
              " [29.128],\n",
              " [28.5],\n",
              " [28.822],\n",
              " [28.92],\n",
              " [28.316],\n",
              " [28.549000000000003],\n",
              " [27.8],\n",
              " [27.823],\n",
              " [26.736000000000004],\n",
              " [27.623],\n",
              " [27.412],\n",
              " [27.849],\n",
              " [27.896000000000004],\n",
              " [27.374000000000002],\n",
              " [27.953000000000003],\n",
              " [27.987000000000002],\n",
              " [28.122],\n",
              " [28.468000000000004],\n",
              " [29.112],\n",
              " [28.475],\n",
              " [27.541999999999998],\n",
              " [27.534000000000002],\n",
              " [27.56],\n",
              " [27.245000000000005],\n",
              " [27.381999999999998],\n",
              " [27.671999999999997],\n",
              " [28.163],\n",
              " [27.686],\n",
              " [27.671999999999997],\n",
              " [27.598000000000003],\n",
              " [27.665],\n",
              " [27.124000000000006],\n",
              " [27.011999999999997],\n",
              " [27.541999999999998],\n",
              " [27.325],\n",
              " [27.390000000000004],\n",
              " [27.254000000000005],\n",
              " [26.681999999999995],\n",
              " [26.891999999999996],\n",
              " [26.986],\n",
              " [27.108],\n",
              " [26.456],\n",
              " [25.948999999999998],\n",
              " [25.521],\n",
              " [26.891999999999996],\n",
              " [27.342000000000002],\n",
              " [27.575],\n",
              " [27.229],\n",
              " [27.64],\n",
              " [29.095],\n",
              " [28.654],\n",
              " [30.183],\n",
              " [30.11],\n",
              " [30.006],\n",
              " [29.894000000000002],\n",
              " [29.652],\n",
              " [29.474999999999998],\n",
              " [29.797],\n",
              " [30.940000000000005],\n",
              " [30.609000000000005],\n",
              " [30.465999999999998],\n",
              " [30.239000000000004],\n",
              " [29.997],\n",
              " [29.748000000000005],\n",
              " [29.336000000000002],\n",
              " [29.588000000000005],\n",
              " [25.805],\n",
              " [25.561999999999998],\n",
              " [25.747],\n",
              " [25.948999999999998],\n",
              " [25.779],\n",
              " [26.32],\n",
              " [26.135],\n",
              " [26.03],\n",
              " [26.054000000000002],\n",
              " [26.415],\n",
              " [26.831999999999997],\n",
              " [26.706000000000003],\n",
              " [26.424],\n",
              " [26.303],\n",
              " [26.665],\n",
              " [26.84],\n",
              " [26.712000000000003],\n",
              " [26.570999999999998],\n",
              " [26.478],\n",
              " [26.238000000000003],\n",
              " [25.98],\n",
              " [26.084],\n",
              " [26.03],\n",
              " [26.173000000000002],\n",
              " [26.061999999999998],\n",
              " [25.868000000000002],\n",
              " [26.084],\n",
              " [25.538000000000004],\n",
              " [24.95],\n",
              " [24.966],\n",
              " [24.5],\n",
              " [24.473],\n",
              " [24.593999999999998],\n",
              " [24.671000000000003],\n",
              " [24.732999999999997],\n",
              " [24.483],\n",
              " [24.524],\n",
              " [24.515999999999995],\n",
              " [25.006999999999994],\n",
              " [24.17],\n",
              " [24.201000000000004],\n",
              " [24.418000000000003],\n",
              " [24.015],\n",
              " [23.389],\n",
              " [23.47],\n",
              " [23.323],\n",
              " [23.234],\n",
              " [22.711],\n",
              " [22.47],\n",
              " [22.044],\n",
              " [22.061],\n",
              " [22.214000000000002],\n",
              " [22.537],\n",
              " [21.36],\n",
              " [21.143],\n",
              " [21.487],\n",
              " [21.835],\n",
              " [21.345],\n",
              " [21.666999999999998],\n",
              " [21.818],\n",
              " [22.590999999999998],\n",
              " [21.891],\n",
              " [22.252],\n",
              " [22.269000000000002],\n",
              " [21.883000000000003],\n",
              " [21.458000000000002],\n",
              " [22.285999999999998],\n",
              " [22.544],\n",
              " [22.544],\n",
              " [22.294],\n",
              " [22.945999999999998],\n",
              " [23.614],\n",
              " [23.112],\n",
              " [23.112],\n",
              " [22.294],\n",
              " [22.864],\n",
              " [23.323],\n",
              " [22.776],\n",
              " [22.711],\n",
              " [22.679000000000002],\n",
              " [23.549],\n",
              " [23.348000000000003],\n",
              " [23.0],\n",
              " [23.865],\n",
              " [24.112],\n",
              " [23.942999999999998],\n",
              " [23.599],\n",
              " [23.766],\n",
              " [23.991999999999997],\n",
              " [23.628],\n",
              " [23.112],\n",
              " [23.068],\n",
              " [23.146],\n",
              " [23.444000000000003],\n",
              " [22.8],\n",
              " [22.761],\n",
              " [22.719],\n",
              " [23.212],\n",
              " [22.623],\n",
              " [22.971],\n",
              " [23.0],\n",
              " [22.301],\n",
              " [22.449],\n",
              " [23.42],\n",
              " [22.641],\n",
              " [22.614],\n",
              " [22.67],\n",
              " [21.537],\n",
              " [19.805],\n",
              " [20.174],\n",
              " [18.832],\n",
              " [19.958],\n",
              " [21.430999999999997],\n",
              " [21.053],\n",
              " [20.087],\n",
              " [19.797],\n",
              " [20.676],\n",
              " [20.328],\n",
              " [18.597],\n",
              " [20.528000000000002],\n",
              " [19.726],\n",
              " [17.833],\n",
              " [17.366],\n",
              " [17.212],\n",
              " [16.344],\n",
              " [16.625999999999998],\n",
              " [15.305],\n",
              " [17.309],\n",
              " [16.907],\n",
              " [16.785999999999998],\n",
              " [15.497],\n",
              " [16.012999999999998],\n",
              " [15.802999999999999],\n",
              " [16.215999999999998],\n",
              " [16.383],\n",
              " [15.264000000000001],\n",
              " [15.136],\n",
              " [14.356000000000002],\n",
              " [14.275],\n",
              " [15.690000000000001],\n",
              " [15.459000000000001],\n",
              " [15.578],\n",
              " [15.707],\n",
              " [15.54],\n",
              " [16.723],\n",
              " [16.045],\n",
              " [14.765],\n",
              " [15.184000000000001],\n",
              " [14.853000000000002],\n",
              " [14.338000000000001],\n",
              " [13.115000000000002],\n",
              " [13.574000000000003],\n",
              " [12.897],\n",
              " [12.969999999999999],\n",
              " [12.931],\n",
              " [11.633],\n",
              " [10.335999999999999],\n",
              " [11.297],\n",
              " [12.286],\n",
              " [12.695999999999998],\n",
              " [13.034999999999998],\n",
              " [13.823],\n",
              " [12.478],\n",
              " [14.179],\n",
              " [14.595],\n",
              " [14.129000000000001],\n",
              " [14.371999999999998],\n",
              " [15.2],\n",
              " [14.312999999999999],\n",
              " [14.493],\n",
              " [13.727],\n",
              " [13.775999999999998],\n",
              " [13.647],\n",
              " [14.427999999999997],\n",
              " [13.999],\n",
              " [12.849999999999998],\n",
              " [13.283],\n",
              " [12.939999999999998],\n",
              " [13.228],\n",
              " [12.969999999999999],\n",
              " [12.857000000000001],\n",
              " [12.609000000000002],\n",
              " [12.736],\n",
              " [13.043],\n",
              " [13.743],\n",
              " [13.388],\n",
              " [13.574000000000003],\n",
              " [12.969999999999999],\n",
              " [12.993],\n",
              " [12.880000000000003],\n",
              " [12.745000000000001],\n",
              " [12.029000000000002],\n",
              " [11.36],\n",
              " [11.085999999999999],\n",
              " [11.239],\n",
              " [10.411],\n",
              " [10.491],\n",
              " [10.854000000000001],\n",
              " [9.647],\n",
              " [10.0],\n",
              " [10.515999999999998],\n",
              " [10.869000000000002],\n",
              " [10.241],\n",
              " [9.767999999999999],\n",
              " [9.3558],\n",
              " [9.1555],\n",
              " [9.0658],\n",
              " [8.7351],\n",
              " [8.9373],\n",
              " [10.174],\n",
              " [9.3558],\n",
              " [9.613],\n",
              " [9.4039],\n",
              " [9.2105],\n",
              " [8.7032],\n",
              " [8.7435],\n",
              " [8.0995],\n",
              " [7.5519],\n",
              " [7.125100000000001],\n",
              " [7.3102],\n",
              " [7.2541],\n",
              " [7.3265],\n",
              " [6.8513],\n",
              " [6.1189],\n",
              " [5.6436],\n",
              " [5.3861],\n",
              " [5.362],\n",
              " [5.684],\n",
              " [5.9658],\n",
              " [7.1411999999999995],\n",
              " [6.8354],\n",
              " [7.704899999999999],\n",
              " [7.7453],\n",
              " [7.7772],\n",
              " [8.051],\n",
              " [8.3086],\n",
              " [8.1555],\n",
              " [7.6808],\n",
              " [8.397],\n",
              " [8.3812],\n",
              " [8.4452],\n",
              " [8.7749],\n",
              " [8.6787],\n",
              " [7.9948],\n",
              " [8.1396],\n",
              " [8.1877],\n",
              " [8.6464],\n",
              " [8.808],\n",
              " [9.0097],\n",
              " [8.5741],\n",
              " [8.566],\n",
              " [9.122],\n",
              " [9.767999999999999],\n",
              " [9.2671],\n",
              " [9.525],\n",
              " [9.879],\n",
              " [9.974],\n",
              " [9.1392],\n",
              " [9.4189],\n",
              " [9.5],\n",
              " [9.564],\n",
              " [9.751],\n",
              " [9.732999999999999],\n",
              " [9.662],\n",
              " [9.839],\n",
              " [10.183],\n",
              " [10.217],\n",
              " [10.547],\n",
              " [10.547],\n",
              " [11.005],\n",
              " [11.239],\n",
              " [11.698],\n",
              " [11.425],\n",
              " [11.014000000000001],\n",
              " [10.395],\n",
              " [10.499],\n",
              " [10.353],\n",
              " [10.844000000000001],\n",
              " [11.03],\n",
              " [11.085999999999999],\n",
              " [10.659],\n",
              " [10.547],\n",
              " [10.779000000000002],\n",
              " [10.458],\n",
              " [10.62],\n",
              " [10.854000000000001],\n",
              " [11.159],\n",
              " [11.109000000000002],\n",
              " [10.869000000000002],\n",
              " [11.071],\n",
              " [10.901],\n",
              " [10.918],\n",
              " [10.925999999999998],\n",
              " [10.788],\n",
              " [10.837],\n",
              " [10.876],\n",
              " [10.587],\n",
              " [10.289000000000001],\n",
              " [9.862],\n",
              " [9.639],\n",
              " [9.742],\n",
              " [9.274],\n",
              " [9.3401],\n",
              " [9.4189],\n",
              " [9.55],\n",
              " [9.4595],\n",
              " [9.4684],\n",
              " [9.4367],\n",
              " [9.4823],\n",
              " [9.2269],\n",
              " [9.2425],\n",
              " [8.8645],\n",
              " [8.6222],\n",
              " [8.7435],\n",
              " [8.6787],\n",
              " [9.2269],\n",
              " [9.3716],\n",
              " [9.854],\n",
              " [9.982999999999999],\n",
              " [9.3784],\n",
              " [9.3951],\n",
              " [9.2337],\n",
              " [9.3636],\n",
              " [9.622],\n",
              " [9.685],\n",
              " [9.918],\n",
              " [10.079],\n",
              " [9.871],\n",
              " [10.554],\n",
              " [10.788],\n",
              " [11.048],\n",
              " [11.126],\n",
              " [11.263],\n",
              " [11.520999999999999],\n",
              " [11.835],\n",
              " [11.729000000000001],\n",
              " [11.263],\n",
              " [11.375],\n",
              " [11.353],\n",
              " [11.207],\n",
              " [10.758],\n",
              " [10.942],\n",
              " [10.892999999999999],\n",
              " [11.118],\n",
              " [11.442],\n",
              " [11.433],\n",
              " [11.512],\n",
              " [11.36],\n",
              " [11.425],\n",
              " [11.334000000000001],\n",
              " [11.193],\n",
              " [10.74],\n",
              " [10.628],\n",
              " [10.828],\n",
              " [11.168],\n",
              " [11.677],\n",
              " [11.972000000000003],\n",
              " [11.914999999999997],\n",
              " [11.811],\n",
              " [12.36],\n",
              " [12.880000000000003],\n",
              " [13.686000000000002],\n",
              " [13.414],\n",
              " [13.283],\n",
              " [13.492],\n",
              " [13.694],\n",
              " [13.686000000000002],\n",
              " [13.349],\n",
              " [13.180000000000001],\n",
              " [13.492],\n",
              " [13.453],\n",
              " [13.219999999999999],\n",
              " [12.857000000000001],\n",
              " [12.366],\n",
              " [12.745000000000001],\n",
              " [12.945999999999998],\n",
              " [13.010000000000002],\n",
              " [13.059000000000003],\n",
              " [13.025999999999998],\n",
              " [13.145999999999999],\n",
              " [13.195999999999998],\n",
              " [13.559000000000003],\n",
              " [13.517999999999999],\n",
              " [12.945999999999998],\n",
              " [12.752],\n",
              " [12.545],\n",
              " [12.502],\n",
              " [12.350999999999999],\n",
              " [12.237],\n",
              " [12.083],\n",
              " [12.019999999999998],\n",
              " [11.607999999999999],\n",
              " [11.972000000000003],\n",
              " [11.479000000000001],\n",
              " [11.65],\n",
              " [11.529000000000002],\n",
              " [11.425],\n",
              " [11.617],\n",
              " [12.343000000000002],\n",
              " [12.760999999999997],\n",
              " [12.704000000000002],\n",
              " [12.745000000000001],\n",
              " [12.680000000000001],\n",
              " [12.609000000000002],\n",
              " [12.880000000000003],\n",
              " [12.897],\n",
              " [12.954000000000002],\n",
              " [12.689000000000002],\n",
              " [12.552999999999999],\n",
              " [12.897],\n",
              " [12.979],\n",
              " [13.025999999999998],\n",
              " [12.834000000000001],\n",
              " [12.897],\n",
              " [13.017999999999999],\n",
              " [12.939999999999998],\n",
              " [12.880000000000003],\n",
              " [13.043],\n",
              " [12.945999999999998],\n",
              " [12.657],\n",
              " [12.609000000000002],\n",
              " [12.567],\n",
              " [12.818],\n",
              " [12.842],\n",
              " [12.680000000000001],\n",
              " [12.631],\n",
              " [12.713],\n",
              " [12.552999999999999],\n",
              " [12.536],\n",
              " [12.463],\n",
              " [12.405999999999997],\n",
              " [12.431],\n",
              " [12.350999999999999],\n",
              " [12.431],\n",
              " [12.36],\n",
              " [12.182],\n",
              " [12.439000000000002],\n",
              " [12.502],\n",
              " [12.439000000000002],\n",
              " [13.082],\n",
              " [13.363],\n",
              " [13.492],\n",
              " [13.5],\n",
              " [13.551],\n",
              " [13.445000000000002],\n",
              " [13.236],\n",
              " [13.318],\n",
              " [13.283],\n",
              " [12.897],\n",
              " [12.969999999999999],\n",
              " [13.180000000000001],\n",
              " [13.163],\n",
              " [13.123],\n",
              " [13.010000000000002],\n",
              " [12.945999999999998],\n",
              " [13.082],\n",
              " [13.565],\n",
              " [13.430999999999997],\n",
              " [12.914],\n",
              " [12.713],\n",
              " [12.56],\n",
              " [12.56],\n",
              " [12.631],\n",
              " [12.695999999999998],\n",
              " [12.517999999999999],\n",
              " [12.914],\n",
              " [13.002],\n",
              " [13.074000000000003],\n",
              " [13.017999999999999],\n",
              " [13.082],\n",
              " [12.842],\n",
              " [12.979],\n",
              " [12.818],\n",
              " [12.931],\n",
              " [12.801],\n",
              " [12.801],\n",
              " [12.904000000000003],\n",
              " [12.969999999999999],\n",
              " [13.163],\n",
              " [13.099999999999998],\n",
              " [13.275],\n",
              " [13.292],\n",
              " [13.267000000000001],\n",
              " [13.719000000000001],\n",
              " [13.92],\n",
              " [14.550000000000002],\n",
              " [14.523000000000001],\n",
              " [14.645],\n",
              " [14.550000000000002],\n",
              " [14.550000000000002],\n",
              " [14.757],\n",
              " [14.853000000000002],\n",
              " [14.731],\n",
              " [14.765],\n",
              " [14.814],\n",
              " [14.731],\n",
              " [14.654000000000002],\n",
              " [14.757],\n",
              " [14.92],\n",
              " [14.972999999999999],\n",
              " [14.894],\n",
              " [14.942999999999998],\n",
              " [14.912],\n",
              " [15.062999999999999],\n",
              " [15.258000000000001],\n",
              " [15.578],\n",
              " [15.698],\n",
              " [15.273000000000001],\n",
              " [15.249],\n",
              " [15.297000000000002],\n",
              " [15.322],\n",
              " [15.258000000000001],\n",
              " [15.354000000000001],\n",
              " [15.54],\n",
              " [15.056],\n",
              " [15.258000000000001],\n",
              " [15.690000000000001],\n",
              " [15.184000000000001],\n",
              " [15.505999999999998],\n",
              " [14.959000000000001],\n",
              " [14.573],\n",
              " [13.936000000000002],\n",
              " [13.59],\n",
              " [14.523000000000001],\n",
              " [14.493],\n",
              " [14.845],\n",
              " [14.532000000000002],\n",
              " [14.201999999999998],\n",
              " [14.138],\n",
              " [13.870999999999999],\n",
              " [13.895999999999999],\n",
              " [13.090999999999998],\n",
              " [13.219999999999999],\n",
              " [12.888],\n",
              " [12.842],\n",
              " [12.888],\n",
              " [13.414],\n",
              " [13.163],\n",
              " [12.864],\n",
              " [13.163],\n",
              " [13.244],\n",
              " [12.649],\n",
              " [12.405999999999997],\n",
              " [12.463],\n",
              " [12.335],\n",
              " [12.622],\n",
              " [12.527000000000001],\n",
              " [12.389000000000003],\n",
              " [12.704000000000002],\n",
              " [12.760999999999997],\n",
              " [12.81],\n",
              " [12.842],\n",
              " [12.962],\n",
              " [12.713],\n",
              " [12.389000000000003],\n",
              " [12.142000000000003],\n",
              " [12.003],\n",
              " [12.075999999999997],\n",
              " [11.659],\n",
              " [11.604000000000001],\n",
              " [11.367],\n",
              " [11.175999999999998],\n",
              " [11.248],\n",
              " [11.770999999999999],\n",
              " [11.942000000000002],\n",
              " [12.037000000000003],\n",
              " [12.019999999999998],\n",
              " [12.245999999999999],\n",
              " [12.237],\n",
              " [12.277000000000001],\n",
              " [11.713],\n",
              " [11.770999999999999],\n",
              " [12.029000000000002],\n",
              " [11.95],\n",
              " [12.245999999999999],\n",
              " [12.649],\n",
              " [12.993],\n",
              " [13.025999999999998],\n",
              " [12.923],\n",
              " [13.002],\n",
              " [12.979],\n",
              " [13.210999999999999],\n",
              " [13.204000000000002],\n",
              " [13.267000000000001],\n",
              " [13.301],\n",
              " [13.244],\n",
              " [13.187999999999999],\n",
              " [13.082],\n",
              " [12.64],\n",
              " [12.472000000000003],\n",
              " [12.381],\n",
              " [12.448000000000002],\n",
              " [12.545],\n",
              " [12.64],\n",
              " [12.277000000000001],\n",
              " [12.099000000000002],\n",
              " [11.987],\n",
              " [11.729000000000001],\n",
              " [11.729000000000001],\n",
              " [11.677],\n",
              " [11.843],\n",
              " [11.689],\n",
              " [11.659],\n",
              " [12.083],\n",
              " ...]"
            ]
          },
          "metadata": {
            "tags": []
          },
          "execution_count": 19
        }
      ]
    },
    {
      "cell_type": "code",
      "metadata": {
        "id": "DqPBmJbgEp8u",
        "outputId": "c5d44e32-be59-4a0d-e8b5-a872a880f78a",
        "colab": {
          "base_uri": "https://localhost:8080/",
          "height": 284
        }
      },
      "source": [
        "# overall = np.concatenate(np.array(input_stock),np.array(pred_stock))\n",
        "#overall = dftest1.join(stock_min_max.inverse_transform(np.reshape(list_op, (-1,1))))\n",
        "plt.plot(input_stock)"
      ],
      "execution_count": 20,
      "outputs": [
        {
          "output_type": "execute_result",
          "data": {
            "text/plain": [
              "[<matplotlib.lines.Line2D at 0x7f3ded10f2e8>]"
            ]
          },
          "metadata": {
            "tags": []
          },
          "execution_count": 20
        },
        {
          "output_type": "display_data",
          "data": {
            "image/png": "[encoded data removed]",
            "text/plain": [
              "<Figure size 432x288 with 1 Axes>"
            ]
          },
          "metadata": {
            "tags": [],
            "needs_background": "light"
          }
        }
      ]
    },
    {
      "cell_type": "code",
      "metadata": {
        "id": "IxHLV9Xf_SJP"
      },
      "source": [
        ""
      ],
      "execution_count": null,
      "outputs": []
    },
    {
      "cell_type": "code",
      "metadata": {
        "id": "EjoAh9jFE3rr",
        "outputId": "f9bb7144-0632-45b3-ae49-564783f35ffa",
        "colab": {
          "base_uri": "https://localhost:8080/",
          "height": 282
        }
      },
      "source": [
        "plt.plot(stock_min_max.inverse_transform(np.reshape(list_op, (-1,1))))"
      ],
      "execution_count": 21,
      "outputs": [
        {
          "output_type": "execute_result",
          "data": {
            "text/plain": [
              "[<matplotlib.lines.Line2D at 0x7f3df0ddc860>]"
            ]
          },
          "metadata": {
            "tags": []
          },
          "execution_count": 21
        },
        {
          "output_type": "display_data",
          "data": {
            "image/png": "[encoded data removed]",
            "text/plain": [
              "<Figure size 432x288 with 1 Axes>"
            ]
          },
          "metadata": {
            "tags": [],
            "needs_background": "light"
          }
        }
      ]
    }
  ]
}